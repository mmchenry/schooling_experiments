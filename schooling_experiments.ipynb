{
 "cells": [
  {
   "attachments": {},
   "cell_type": "markdown",
   "metadata": {},
   "source": [
    "# Overview\n",
    "\n",
    "Make sure that this notebook is run in the Conda environment setup for this project, as described in [Readme.md](README.md)\n",
    "\n",
    "This notebook runs the code for performing schooling experiments. We used a Luxli ORC-Taiko-2x1 LED light source controlled with an Enttex DMX USB Pro via a 5-pin DMX cable. Details on the Python package to control this hardware (DMXEnttecPro) can be found on [github](https://github.com/SavinaRoja/DMXEnttecPro)."
   ]
  },
  {
   "cell_type": "markdown",
   "metadata": {},
   "source": [
    "# Packages"
   ]
  },
  {
   "cell_type": "code",
   "execution_count": null,
   "metadata": {},
   "outputs": [],
   "source": [
    "from DMXEnttecPro import Controller\n",
    "import numpy as np\n",
    "import def_runexperiments as re\n",
    "import multiprocess, os\n",
    "\n",
    "if os.name == \"posix\":\n",
    "        multiprocess.set_start_method('spawn')"
   ]
  },
  {
   "attachments": {},
   "cell_type": "markdown",
   "metadata": {},
   "source": [
    "# Hardware setup\n",
    "\n",
    "You can first find the Enttec device by typing the folling at the terminal:\n",
    "\n",
    "> python -m DMXEnttecPro.utils\n",
    "\n",
    "which gave me the following:\n",
    "\n",
    ">/dev/cu.usbserial-EN373474 <br>\n",
    ">  name: cu.usbserial-EN373474 <br> \n",
    ">  description: DMX USB PRO<br>\n",
    ">  hwid: USB VID:PID=0403:6001 SER=EN373474 LOCATION=0-1.1.1<br>\n",
    ">  vid: 1027<br>\n",
    ">  pid: 24577<br>\n",
    ">  serial_number: EN373474<br>\n",
    ">  location: 0-1.1.1<br>\n",
    ">  manufacturer: ENTTEC<br>\n",
    ">  product: DMX USB PRO<br>\n",
    ">  interface: None<br>\n",
    "\n",
    "The first line is what you'll want to copy and paste below to define 'hw_address'."
   ]
  },
  {
   "cell_type": "markdown",
   "metadata": {},
   "source": [
    "## Parameters"
   ]
  },
  {
   "cell_type": "code",
   "execution_count": null,
   "metadata": {},
   "outputs": [],
   "source": [
    "# Address for the Enttec USB device (see above)\n",
    "hw_address = \"/dev/cu.usbserial-EN373474\"\n",
    "\n",
    "# Path to time-code audio file\n",
    "aud_path = \"/Users/mmchenry/Documents/Projects/wake_tracking/timecode.wav\""
   ]
  },
  {
   "cell_type": "markdown",
   "metadata": {},
   "source": [
    "## Initialize hardware\n",
    "\n",
    "Run these lines for all of the programs that you want to run below."
   ]
  },
  {
   "cell_type": "code",
   "execution_count": null,
   "metadata": {},
   "outputs": [],
   "source": [
    "#  Initialize hardware\n",
    "dmx = Controller(hw_address, auto_submit=True, dmx_size=32)\n",
    "\n",
    "# Set output rate at maximum\n",
    "dmx.set_dmx_parameters(output_rate=0)"
   ]
  },
  {
   "cell_type": "markdown",
   "metadata": {},
   "source": [
    "# Programs\n",
    "\n",
    "Select which of the cells below that make sense for the experiment that you want to run."
   ]
  },
  {
   "cell_type": "markdown",
   "metadata": {},
   "source": [
    "## Fixed light intensity"
   ]
  },
  {
   "cell_type": "code",
   "execution_count": null,
   "metadata": {},
   "outputs": [],
   "source": [
    "# Specify light intensity (from 0 to 1)\n",
    "light_intensity = 0\n",
    "\n",
    "# Sets DMX channel 1 to max 255 (Channel 1 is the intensity)\n",
    "dmx.set_channel(1, int(light_intensity*255))  "
   ]
  },
  {
   "cell_type": "markdown",
   "metadata": {},
   "source": [
    "## Ramp down and then up\n",
    "\n",
    "Changing light intensity at a constant rate."
   ]
  },
  {
   "cell_type": "code",
   "execution_count": null,
   "metadata": {},
   "outputs": [],
   "source": [
    "# list of light levels\n",
    "light_level = np.array([1, 0, 0.5])\n",
    "\n",
    "# Duration that each level is fixed\n",
    "light_dur = np.array([2, 3, 2])\n",
    "\n",
    "# Duration for the changes in light level\n",
    "ramp_dur = np.array([3, 1])\n",
    "\n",
    "# Dataframe of light and control levels \n",
    "df = re.make_ramp(light_level, light_dur, ramp_dur, plot_data=True)\n",
    "\n",
    "# Play control levels into Enttec DMX\n",
    "re.run_program(df, dmx, aud_path=aud_path, trig_video=True)\n",
    "\n",
    "# print(df)"
   ]
  },
  {
   "cell_type": "markdown",
   "metadata": {},
   "source": []
  }
 ],
 "metadata": {
  "kernelspec": {
   "display_name": "wake",
   "language": "python",
   "name": "python3"
  },
  "language_info": {
   "codemirror_mode": {
    "name": "ipython",
    "version": 3
   },
   "file_extension": ".py",
   "mimetype": "text/x-python",
   "name": "python",
   "nbconvert_exporter": "python",
   "pygments_lexer": "ipython3",
   "version": "3.7.15"
  },
  "orig_nbformat": 4,
  "vscode": {
   "interpreter": {
    "hash": "5402b5f62f8d7a6204e1391e141de2897dbdfc937b2593f3d106e812a396e333"
   }
  }
 },
 "nbformat": 4,
 "nbformat_minor": 2
}
