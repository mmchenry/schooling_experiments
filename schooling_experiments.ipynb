{
 "cells": [
  {
   "attachments": {},
   "cell_type": "markdown",
   "metadata": {},
   "source": [
    "# Overview\n",
    "\n",
    "Make sure that this notebook is run in the Conda environment setup for this project, as described in [Readme.md](README.md)\n",
    "\n",
    "This notebook runs the code for performing schooling experiments. "
   ]
  },
  {
   "attachments": {},
   "cell_type": "markdown",
   "metadata": {},
   "source": [
    "# Parameters"
   ]
  },
  {
   "cell_type": "code",
   "execution_count": null,
   "metadata": {},
   "outputs": [],
   "source": [
    "# Prefix for video files\n",
    "moviefile_prefix = \"SCHOOL_S001_S001_T\"\n",
    "\n",
    "# Address for the Enttec USB device (see above)\n",
    "hw_address = \"/dev/cu.usbserial-EN373474\"\n",
    "\n",
    "# Define IP address of smart switch (see README for how to find at command line)\n",
    "LED_IP = \"192.168.0.104\""
   ]
  },
  {
   "cell_type": "markdown",
   "metadata": {},
   "source": [
    "# Packages"
   ]
  },
  {
   "cell_type": "code",
   "execution_count": null,
   "metadata": {},
   "outputs": [],
   "source": [
    "from DMXEnttecPro import Controller\n",
    "import numpy as np\n",
    "import def_runexperiments as re\n",
    "import multiprocess, os\n",
    "# import pandas as pd\n",
    "\n",
    "# This is necessary for using multiprocess on a Mac\n",
    "if os.name == \"posix\":\n",
    "        multiprocess.set_start_method('spawn')"
   ]
  },
  {
   "attachments": {},
   "cell_type": "markdown",
   "metadata": {},
   "source": [
    "## Project paths\n",
    "\n",
    "You can find instructions for defining hw_address in [README.md](README.md). You will need to be connected to the fileserver (\"vortex\") to access the log_path."
   ]
  },
  {
   "cell_type": "code",
   "execution_count": null,
   "metadata": {},
   "outputs": [],
   "source": [
    "# Path to time-code audio file\n",
    "aud_path = \"/Users/experimentalist/Documents/Projects/wake_tracking/timecode.wav\"\n",
    "\n",
    "# Path to log csv file\n",
    "log_path = \"/Volumes/schooling/TRex/recording_log.csv\"\n",
    "\n",
    "# Check address of log file\n",
    "if not os.path.isfile(log_path):\n",
    "    raise OSError(\"log_path not found at \" + log_path)\n",
    "\n",
    "# Check address of audio file\n",
    "if not os.path.isfile(aud_path):\n",
    "    raise OSError(\"aud_path not found at \" + aud_path)\n",
    "\n",
    "# log = pd.read_csv(log_path)\n",
    "# print(log)"
   ]
  },
  {
   "cell_type": "markdown",
   "metadata": {},
   "source": [
    "## Initialize hardware\n",
    "\n",
    "Run these lines for all of the programs that you want to run below."
   ]
  },
  {
   "cell_type": "code",
   "execution_count": null,
   "metadata": {},
   "outputs": [],
   "source": [
    "#  Initialize hardware\n",
    "dmx = Controller(hw_address, auto_submit=True, dmx_size=32)\n",
    "\n",
    "# Set output rate at maximum\n",
    "dmx.set_dmx_parameters(output_rate=0)"
   ]
  },
  {
   "attachments": {},
   "cell_type": "markdown",
   "metadata": {},
   "source": [
    "# Basic hardware control"
   ]
  },
  {
   "attachments": {},
   "cell_type": "markdown",
   "metadata": {},
   "source": [
    "## Change fixed light intensity\n",
    "Note that if the Luxli LED lamp becomes unresponsive, then disconnect the DMX connection at the Enttec USB box, then power off the power supply to the light, turn the power supply back on, then power up the light (it should show the interactive screen), and then reconnect the DMX."
   ]
  },
  {
   "cell_type": "code",
   "execution_count": null,
   "metadata": {},
   "outputs": [],
   "source": [
    "# Specify light intensity (from 0 to 1)\n",
    "light_intensity = 0\n",
    "\n",
    "# Sets DMX channel 1 to max 255 (Channel 1 is the intensity)\n",
    "dmx.set_channel(1, int(light_intensity*255))  "
   ]
  },
  {
   "attachments": {},
   "cell_type": "markdown",
   "metadata": {},
   "source": [
    "## Turn on LED array"
   ]
  },
  {
   "cell_type": "code",
   "execution_count": null,
   "metadata": {},
   "outputs": [],
   "source": [
    "os.system('kasa --host ' + LED_IP + ' on')"
   ]
  },
  {
   "attachments": {},
   "cell_type": "markdown",
   "metadata": {},
   "source": [
    "## Turn off LED array"
   ]
  },
  {
   "cell_type": "code",
   "execution_count": null,
   "metadata": {},
   "outputs": [],
   "source": [
    "os.system('kasa --host ' + LED_IP + ' off')"
   ]
  },
  {
   "attachments": {},
   "cell_type": "markdown",
   "metadata": {},
   "source": [
    "# Single-Experiment Programs\n",
    "\n",
    "Select which of the cells below that make sense for the experiment that you want to run."
   ]
  },
  {
   "attachments": {},
   "cell_type": "markdown",
   "metadata": {},
   "source": [
    "## Lights on for fixed duration"
   ]
  },
  {
   "cell_type": "code",
   "execution_count": null,
   "metadata": {},
   "outputs": [],
   "source": [
    "# What light level to return to after the program\n",
    "end_light_level = 0\n",
    "\n",
    "# list of light levels\n",
    "light_level = np.array([1])\n",
    "\n",
    "# Duration that each level is fixed (s)\n",
    "light_dur = np.array([2])\n",
    "\n",
    "# Run control program\n",
    "re.run_program(dmx, aud_path=aud_path, log_path=log_path, light_level=light_level, \n",
    "    light_dur=light_dur, trig_video=True, echo=False, plot_data=True, \n",
    "    movie_prefix=moviefile_prefix, LED_IP=LED_IP)\n",
    "\n",
    "# Set ending log intensity\n",
    "dmx.set_channel(1, int(end_light_level*255))  \n",
    "\n",
    "# print(df)"
   ]
  },
  {
   "attachments": {},
   "cell_type": "markdown",
   "metadata": {},
   "source": [
    "## Lights on -> Lights off\n",
    "\n",
    "Ramp down light intensity at a constant rate."
   ]
  },
  {
   "cell_type": "code",
   "execution_count": null,
   "metadata": {},
   "outputs": [],
   "source": [
    "# list of light levels\n",
    "light_level = np.array([1, 0])\n",
    "\n",
    "# Duration that each level is fixed (s)\n",
    "light_dur = np.array([10, 10])\n",
    "\n",
    "# Duration for the changes in light level\n",
    "ramp_dur = np.array([0.5])\n",
    "\n",
    "# Play control levels into Enttec DMX\n",
    "re.run_program(dmx, aud_path=aud_path, log_path=log_path, light_level=light_level, \n",
    "    light_dur=light_dur, ramp_dur=ramp_dur, trig_video=True, echo=False, plot_data=True,\n",
    "    movie_prefix=moviefile_prefix, LED_IP=LED_IP)\n",
    "\n",
    "# print(df)"
   ]
  },
  {
   "attachments": {},
   "cell_type": "markdown",
   "metadata": {},
   "source": [
    "## Lights off -> Lights on\n",
    "\n",
    "Ramp down light intensity at a constant rate."
   ]
  },
  {
   "cell_type": "code",
   "execution_count": null,
   "metadata": {},
   "outputs": [],
   "source": [
    "# list of light levels\n",
    "light_level = np.array([0, 1])\n",
    "\n",
    "# Duration that each level is fixed\n",
    "light_dur = np.array([5, 5])\n",
    "\n",
    "# Duration for the changes in light level\n",
    "ramp_dur = np.array([2])\n",
    "\n",
    "# Play control levels into Enttec DMX\n",
    "re.run_program(dmx, aud_path=aud_path, log_path=log_path, light_level=light_level, \n",
    "    light_dur=light_dur, ramp_dur=ramp_dur, trig_video=True, echo=False, plot_data=True,\n",
    "    movie_prefix=moviefile_prefix, LED_IP=LED_IP)\n",
    "\n",
    "# print(df)"
   ]
  },
  {
   "attachments": {},
   "cell_type": "markdown",
   "metadata": {},
   "source": [
    "## Ramp lights down and then up\n",
    "\n",
    "Changing light intensity at a constant rate."
   ]
  },
  {
   "cell_type": "code",
   "execution_count": null,
   "metadata": {},
   "outputs": [],
   "source": [
    "# list of light levels\n",
    "light_level = np.array([1, 0, 0.5])\n",
    "\n",
    "# Duration that each level is fixed\n",
    "light_dur = np.array([1, 2, 1])\n",
    "\n",
    "# Duration for the changes in light level\n",
    "ramp_dur = np.array([0.5, 0.5])\n",
    "\n",
    "# Play control levels into Enttec DMX\n",
    "re.run_program(dmx, aud_path=aud_path, log_path=log_path, light_level=light_level, \n",
    "    light_dur=light_dur, ramp_dur=ramp_dur, trig_video=True, echo=False, plot_data=True,\n",
    "     movie_prefix=moviefile_prefix, LED_IP=LED_IP)\n",
    "\n",
    "# print(df)"
   ]
  },
  {
   "attachments": {},
   "cell_type": "markdown",
   "metadata": {},
   "source": [
    "# Sequence of experiments"
   ]
  },
  {
   "attachments": {},
   "cell_type": "markdown",
   "metadata": {},
   "source": [
    "## Vary ramp duration"
   ]
  },
  {
   "cell_type": "code",
   "execution_count": null,
   "metadata": {},
   "outputs": [],
   "source": [
    "# list of starting and ending light levels\n",
    "light_level = np.array([1, 0])\n",
    "\n",
    "# Duration that each level is fixed at the start and end of experiment (s)\n",
    "light_dur = np.array([10, 10])\n",
    "\n",
    "# Duration for the ramp of changes in light level (s)\n",
    "min_rampdur = 0.1\n",
    "max_rampdur = 1.5\n",
    "\n",
    "# Number of experiments to run\n",
    "num_expts = 3\n",
    "\n",
    "# Period of time bwteen expts (min)\n",
    "btwn_period = 0.25\n",
    "\n",
    "# Play control levels into Enttec DMX\n",
    "re.seq_vary_rampdur(dmx, aud_path=aud_path, log_path=log_path, light_level=light_level, \n",
    "    light_dur=light_dur, num_ramp=num_expts, min_rampdur=min_rampdur, max_rampdur=max_rampdur, btwn_period=btwn_period, movie_prefix=moviefile_prefix, LED_IP=LED_IP)"
   ]
  }
 ],
 "metadata": {
  "kernelspec": {
   "display_name": "wake",
   "language": "python",
   "name": "python3"
  },
  "language_info": {
   "codemirror_mode": {
    "name": "ipython",
    "version": 3
   },
   "file_extension": ".py",
   "mimetype": "text/x-python",
   "name": "python",
   "nbconvert_exporter": "python",
   "pygments_lexer": "ipython3",
   "version": "3.7.15"
  },
  "orig_nbformat": 4,
  "vscode": {
   "interpreter": {
    "hash": "93561776b2f930f69495f149764a0242b692f45043c9dfc6934fce9a995162d0"
   }
  }
 },
 "nbformat": 4,
 "nbformat_minor": 2
}
