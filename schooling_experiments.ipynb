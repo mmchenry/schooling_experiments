{
 "cells": [
  {
   "attachments": {},
   "cell_type": "markdown",
   "metadata": {},
   "source": [
    "# Overview\n",
    "\n",
    "Make sure that this notebook is run in the Conda environment setup for this project, as described in [Readme.md](README.md)\n",
    "\n",
    "This notebook runs the code for performing schooling experiments. "
   ]
  },
  {
   "attachments": {},
   "cell_type": "markdown",
   "metadata": {},
   "source": []
  },
  {
   "attachments": {},
   "cell_type": "markdown",
   "metadata": {},
   "source": [
    "# Parameters"
   ]
  },
  {
   "cell_type": "code",
   "execution_count": null,
   "metadata": {},
   "outputs": [],
   "source": [
    "# Prefix for video files (sumo caps name at length 8)\n",
    "moviefile_prefix = \"codetest\"\n",
    "\n",
    "# Address for the Enttec USB device (see above)\n",
    "hw_address = \"/dev/cu.usbserial-EN373474\"\n",
    "\n",
    "# Define IP address of smart switch (see README for how to find at command line)\n",
    "LED_IP = \"192.168.0.104\"\n",
    "\n",
    "# Whether to control the lights and recorder. Set to False when not connected to hardware, or when troubleshooting the code.  #Need to rerun initialize hardware when switching to True\n",
    "control_hw = False\n",
    "\n",
    "# Project directory name\n",
    "# proj_dir = 'scaleBNT'\n",
    "proj_dir = 'code_test'"
   ]
  },
  {
   "attachments": {},
   "cell_type": "markdown",
   "metadata": {},
   "source": [
    "# Packages"
   ]
  },
  {
   "cell_type": "code",
   "execution_count": null,
   "metadata": {},
   "outputs": [],
   "source": [
    "import numpy as np\n",
    "import def_runexperiments as re\n",
    "import multiprocess, os, platform\n",
    "import def_paths as dp\n",
    "# import pandas as pd\n",
    "\n",
    "# control hardware packages moved to initialize hardware block"
   ]
  },
  {
   "attachments": {},
   "cell_type": "markdown",
   "metadata": {},
   "source": [
    "## Root path\n",
    "Find the root path for the project, based on existing directories. Add to this, if necessary."
   ]
  },
  {
   "cell_type": "code",
   "execution_count": null,
   "metadata": {},
   "outputs": [],
   "source": [
    "# Matt's laptop\n",
    "if (platform.system() == 'Darwin') and (os.path.expanduser('~')=='/Users/mmchenry'):\n",
    "    \n",
    "    root_path = '/Users/mmchenry/Documents/Projects/waketracking'\n",
    "\n",
    "# Matt on Linux\n",
    "elif (platform.system() == 'Linux') and (os.path.expanduser('~')=='/home/mmchenry'):\n",
    "\n",
    "    root_path = '/home/mmchenry/Documents/wake_tracking'\n",
    "\n",
    "# Ashley on Linux\n",
    "elif (platform.system() == 'Linux') and (os.path.expanduser('~')=='/home/anpetey'):\n",
    "\n",
    "    root_path = '/vortex/schooling/TRex'\n",
    "# experimentalis on lab mac\n",
    "elif (platform.system() == 'Darwin') and (os.path.expanduser('~')=='/Users/experimentalist'):\n",
    "\n",
    "    root_path = '/Volumes/schooling/TRex'\n",
    "\n",
    "# Ashley's Laptop (google drive)    \n",
    "elif (platform.system() == 'Windows') and (os.path.expanduser('~')=='C:\\\\Users\\\\anpet'):\n",
    "\n",
    "    root_path = 'G:\\Shared drives\\Schooling Behavior\\TRex'\n",
    "\n",
    "# Catch alternatives\n",
    "else:\n",
    "    raise ValueError('Do not recognize this account -- add lines of code to define paths here')"
   ]
  },
  {
   "attachments": {},
   "cell_type": "markdown",
   "metadata": {},
   "source": [
    "## Project paths\n",
    "\n",
    "You can find instructions for defining hw_address in [README.md](README.md). You will need to be connected to the fileserver (\"vortex\") to access the log_path."
   ]
  },
  {
   "cell_type": "code",
   "execution_count": null,
   "metadata": {},
   "outputs": [],
   "source": [
    "\n",
    "# Create subdirectories for the project, if not present\n",
    "paths = dp.give_paths(root_path, proj_dir)\n",
    "\n",
    "# Path to log csv file\n",
    "log_path = root_path  + os.path.sep + 'data' + os.path.sep + proj_dir + os.path.sep + 'recording_log.csv'\n",
    "\n",
    "# Path to directory containing experiment schedules\n",
    "schedules_path = root_path  + os.path.sep + 'data' + os.path.sep + proj_dir + os.path.sep + 'experiment_schedules'\n",
    "\n",
    "# Check address of log file & scheudle directory\n",
    "if not os.path.isfile(log_path):\n",
    "    raise OSError(\"log_path not found at \" + log_path)\n",
    "if not os.path.isdir(schedules_path):\n",
    "    raise OSError(\"schedules_path not found at \" + schedule_path)\n",
    "\n",
    "# log = pd.read_csv(log_path)\n",
    "# print(log)"
   ]
  },
  {
   "attachments": {},
   "cell_type": "markdown",
   "metadata": {},
   "source": [
    "## Initialize hardware\n",
    "\n",
    "Run these lines for all of the programs that you want to run below, even if you are not connected to the hardware."
   ]
  },
  {
   "cell_type": "code",
   "execution_count": null,
   "metadata": {},
   "outputs": [],
   "source": [
    "\n",
    "# Path to directory containing timecode audio file, needed if hardware is being controlled\n",
    "if control_hw:\n",
    "    # Path to time-code audio file\n",
    "    aud_path = \"/Users/experimentalist/Documents/Projects/wake_tracking/timecode.wav\"\n",
    "\n",
    "    # Check address of audio file\n",
    "    if not os.path.isfile(aud_path):\n",
    "        raise OSError(\"aud_path not found at \" + aud_path)    \n",
    "else:\n",
    "    aud_path = None\n",
    "\n",
    "\n",
    "if control_hw:\n",
    "\n",
    "    # Import packages for DMX Control\n",
    "    from DMXEnttecPro import Controller\n",
    "\n",
    "    # This is necessary for using multiprocess on a Mac\n",
    "    if os.name == \"posix\":\n",
    "        multiprocess.set_start_method('spawn')\n",
    "\n",
    "    #  Initialize hardware\n",
    "    dmx = Controller(hw_address, auto_submit=True, dmx_size=32)\n",
    "\n",
    "    # Set output rate at maximum\n",
    "    dmx.set_dmx_parameters(output_rate=0)\n",
    "\n",
    "    print('Harware control is ON')\n",
    "    \n",
    "else:\n",
    "    dmx = None\n",
    "\n",
    "    print('Harware control is OFF - in Debug mode')"
   ]
  },
  {
   "cell_type": "code",
   "execution_count": null,
   "metadata": {},
   "outputs": [],
   "source": [
    "# Cell to run all the above cells"
   ]
  },
  {
   "attachments": {},
   "cell_type": "markdown",
   "metadata": {},
   "source": [
    "# Basic hardware control\n",
    "Useful for fiddling with the setup. You can skip this, if running experiments on a program or schedule."
   ]
  },
  {
   "attachments": {},
   "cell_type": "markdown",
   "metadata": {},
   "source": [
    "## Change fixed light intensity\n",
    "Note that if the Luxli LED lamp becomes unresponsive, then disconnect the DMX connection at the Enttec USB box, then power off the power supply to the light, turn the power supply back on, then power up the light (it should show the interactive screen), and then reconnect the DMX."
   ]
  },
  {
   "cell_type": "code",
   "execution_count": null,
   "metadata": {},
   "outputs": [],
   "source": [
    "# Specify light intensity (from 0 to 1)\n",
    "light_intensity = 0\n",
    "\n",
    "# Sets DMX channel 1 to max 255 (Channel 1 is the intensity)\n",
    "dmx.set_channel(1, int(light_intensity*255))  "
   ]
  },
  {
   "attachments": {},
   "cell_type": "markdown",
   "metadata": {},
   "source": [
    "## Turn on LED array"
   ]
  },
  {
   "cell_type": "code",
   "execution_count": null,
   "metadata": {},
   "outputs": [],
   "source": [
    "os.system('kasa --host ' + LED_IP + ' on')"
   ]
  },
  {
   "attachments": {},
   "cell_type": "markdown",
   "metadata": {},
   "source": [
    "## Turn off LED array"
   ]
  },
  {
   "cell_type": "code",
   "execution_count": null,
   "metadata": {},
   "outputs": [],
   "source": [
    "os.system('kasa --host ' + LED_IP + ' off')"
   ]
  },
  {
   "attachments": {},
   "cell_type": "markdown",
   "metadata": {},
   "source": [
    "## Take Calibration Video\n",
    "Take a single calibration video with calibration stick\n"
   ]
  },
  {
   "cell_type": "code",
   "execution_count": null,
   "metadata": {},
   "outputs": [],
   "source": [
    "# Take number on video file for first recording\n",
    "take_num_start = 1\n",
    "\n",
    "# What light level to return to after the program\n",
    "end_light_level = 0.5\n",
    "\n",
    "# list of light levels\n",
    "light_level = np.array([0.5])\n",
    "\n",
    "# Duration that each level is fixed (min)\n",
    "light_dur = np.array([1/60])\n",
    "\n",
    "\n",
    "# Run control program\n",
    "re.run_program(dmx, aud_path=aud_path, log_path=log_path, light_level=light_level, \n",
    "    light_dur=light_dur, trig_video=True, echo=False, plot_data=False, \n",
    "    movie_prefix=moviefile_prefix, LED_IP=LED_IP, control_hw=control_hw,\n",
    "    take_num=take_num_start,analyze_prompt=False)\n",
    "\n",
    "if control_hw:\n",
    "    # Set ending log intensity\n",
    "    dmx.set_channel(1, int(end_light_level*255))  \n",
    "\n",
    "print('calibration video completed')"
   ]
  },
  {
   "attachments": {},
   "cell_type": "markdown",
   "metadata": {},
   "source": [
    "# Single-Experiment Programs\n",
    "\n",
    "Select which of the cells below that make sense for the experiment that you want to run."
   ]
  },
  {
   "attachments": {},
   "cell_type": "markdown",
   "metadata": {},
   "source": [
    "## Lights on for fixed duration"
   ]
  },
  {
   "cell_type": "code",
   "execution_count": null,
   "metadata": {},
   "outputs": [],
   "source": [
    "# What light level to return to after the program\n",
    "end_light_level = 0\n",
    "\n",
    "# list of light levels\n",
    "light_level = np.array([1])\n",
    "\n",
    "# Duration that each level is fixed (min)\n",
    "light_dur = np.array([3/60])\n",
    "\n",
    "# Run control program\n",
    "re.run_program(dmx, aud_path=aud_path, log_path=log_path, light_level=light_level, \n",
    "    light_dur=light_dur, trig_video=True, echo=False, plot_data=True, \n",
    "    movie_prefix=moviefile_prefix, LED_IP=LED_IP, control_hw=control_hw)\n",
    "\n",
    "if control_hw:\n",
    "    # Set ending log intensity\n",
    "    dmx.set_channel(1, int(end_light_level*255))  \n",
    "\n",
    "# print(df)"
   ]
  },
  {
   "attachments": {},
   "cell_type": "markdown",
   "metadata": {},
   "source": [
    "## Lights on -> Lights off\n",
    "\n",
    "Ramp down light intensity at a constant rate."
   ]
  },
  {
   "cell_type": "code",
   "execution_count": null,
   "metadata": {},
   "outputs": [],
   "source": [
    "# list of light levels\n",
    "light_level = np.array([1, 0])\n",
    "\n",
    "# Duration that each level is fixed (min)\n",
    "light_dur = np.array([3/60, 3/60])\n",
    "\n",
    "# Duration for the changes in light level (s) \n",
    "ramp_dur = np.array([1])\n",
    "\n",
    "# Play control levels into Enttec DMX\n",
    "re.run_program(dmx, aud_path=aud_path, log_path=log_path, light_level=light_level, \n",
    "    light_dur=light_dur, ramp_dur=ramp_dur, trig_video=True, echo=False, plot_data=True,\n",
    "    movie_prefix=moviefile_prefix, LED_IP=LED_IP, control_hw=control_hw)\n",
    "\n",
    "# print(df)"
   ]
  },
  {
   "attachments": {},
   "cell_type": "markdown",
   "metadata": {},
   "source": [
    "## Lights off -> Lights on\n",
    "\n",
    "Ramp down light intensity at a constant rate."
   ]
  },
  {
   "cell_type": "code",
   "execution_count": null,
   "metadata": {},
   "outputs": [],
   "source": [
    "# list of light levels\n",
    "light_level = np.array([0, 1])\n",
    "\n",
    "# Duration that each level is fixed (min)\n",
    "light_dur = np.array([3/60, 3/60])\n",
    "\n",
    "# Duration for the changes in light level (sec)\n",
    "ramp_dur = np.array([1])\n",
    "\n",
    "# Play control levels into Enttec DMX\n",
    "re.run_program(dmx, aud_path=aud_path, log_path=log_path, light_level=light_level, \n",
    "    light_dur=light_dur, ramp_dur=ramp_dur, trig_video=True, echo=False, plot_data=True,\n",
    "    movie_prefix=moviefile_prefix, LED_IP=LED_IP, control_hw=control_hw)\n",
    "\n",
    "# print(df)"
   ]
  },
  {
   "attachments": {},
   "cell_type": "markdown",
   "metadata": {},
   "source": [
    "## Ramp lights down and then up\n",
    "\n",
    "Changing light intensity at a constant rate."
   ]
  },
  {
   "cell_type": "code",
   "execution_count": null,
   "metadata": {},
   "outputs": [],
   "source": [
    "# list of light levels\n",
    "light_level = np.array([1, 0, 1])\n",
    "\n",
    "# Duration that each level is fixed (min)\n",
    "light_dur = np.array([3/60, 3/60, 3/60])\n",
    "\n",
    "# Duration for the changes in light level (sec)\n",
    "ramp_dur = np.array([1, 1])\n",
    "\n",
    "# Play control levels into Enttec DMX\n",
    "re.run_program(dmx, aud_path=aud_path, log_path=log_path, light_level=light_level, \n",
    "    light_dur=light_dur, ramp_dur=ramp_dur, trig_video=True, echo=False, plot_data=True,\n",
    "    movie_prefix=moviefile_prefix, LED_IP=LED_IP, control_hw=control_hw)\n",
    "\n",
    "# print(df)"
   ]
  },
  {
   "attachments": {},
   "cell_type": "markdown",
   "metadata": {},
   "source": [
    "# Sequence of experiments\n",
    "\n",
    "Using re.make_schedule, set change_var to 'ramp_dur_sec', 'start_dur_min', or 'end_dur_min' to vary an individual aspect of a lighting experiment. Then, set num_expts, min_val and max_val to the range of values for that variable among the experiments. Once the schedule file has been created, then use re.run_experiment_schedule to run the experiments. Note that the schedule is specific to a particular date and that the experiments should be run on that particular date. it is therefore easiest to create the schedule file on the same day as the running of the experiments."
   ]
  },
  {
   "attachments": {},
   "cell_type": "markdown",
   "metadata": {},
   "source": [
    "## Make schedule for experiments at a fixed light intensity"
   ]
  },
  {
   "cell_type": "code",
   "execution_count": null,
   "metadata": {},
   "outputs": [],
   "source": [
    "# Duration of ramp before and after experiment (s)\n",
    "pre_ramp_dur_sec = 1\n",
    "post_ramp_dur_sec = 3\n",
    "\n",
    "# Delay before starting experiment (min)\n",
    "start_delay_min = 3/60\n",
    "\n",
    "# list of starting and ending light levels\n",
    "light_level = 0.5\n",
    "\n",
    "# Light intensity between experiments\n",
    "light_btwn = 0.5\n",
    "\n",
    "# Duration that each level is fixed at the start and end of experiment (min)\n",
    "dur_min = 3\n",
    "\n",
    "# Number of experiments to run\n",
    "num_expts = 3\n",
    "\n",
    "# Period of time bwteen expts (min)\n",
    "btwn_period_min = 12\n",
    "\n",
    "# Write schedule to file\n",
    "sch_file = re.make_schedule(paths['sch'], light_start=light_level, \n",
    "                            light_btwn=light_btwn, start_dur_min=dur_min, num_trial=num_expts,\n",
    "                            btwn_period_min=btwn_period_min, pre_ramp_dur_sec=pre_ramp_dur_sec, post_ramp_dur_sec=post_ramp_dur_sec, start_delay_min=start_delay_min)"
   ]
  },
  {
   "attachments": {},
   "cell_type": "markdown",
   "metadata": {},
   "source": []
  },
  {
   "attachments": {},
   "cell_type": "markdown",
   "metadata": {},
   "source": [
    "## Make schedule for experiments that vary ramp (1x) duration \n",
    "(one ramp per experiment)\n",
    "\n",
    "A similar structure to the following code could be used where change_var is set to 'start_dur_min', or 'end_dur_min'."
   ]
  },
  {
   "cell_type": "code",
   "execution_count": null,
   "metadata": {},
   "outputs": [],
   "source": [
    "# Variable to change across experiments\n",
    "change_var = 'ramp_dur_sec'\n",
    "\n",
    "# Duration of ramp before and after experiment (s)\n",
    "pre_ramp_dur_sec = 1\n",
    "post_ramp_dur_sec = 30\n",
    "\n",
    "# Delay before starting experiment (min)\n",
    "start_delay_min = 3/60\n",
    "\n",
    "# list of starting and ending light levels\n",
    "light_start = 0.5\n",
    "light_end   = 0\n",
    "\n",
    "# Light intensity between experiments\n",
    "light_btwn = 0.5\n",
    "\n",
    "# Duration that each level is fixed at the start and end of experiment (min)\n",
    "start_dur_min = 2\n",
    "end_dur_min   = 1\n",
    "\n",
    "# Duration for the ramp of changes in light level (s)\n",
    "min_rampdur_sec = 1\n",
    "max_rampdur_sec = 1\n",
    "\n",
    "# number of replicates of each ramp duration\n",
    "num_reps = 3\n",
    "\n",
    "# add an extra ramp duration that is fixed (s)\n",
    "fixed_rampdur_sec = np.array([1])\n",
    "#fixed_rampdur_sec = None    \n",
    "\n",
    "# Number of variable experiments to run\n",
    "num_expts = 3\n",
    "\n",
    "# Period of time bwteen expts (min)\n",
    "btwn_period_min = 11\n",
    "\n",
    "# Prompt user to confirm the total number of experiments to run\n",
    "# check if fixed ramp duration is included\n",
    "if fixed_rampdur_sec==None:\n",
    "    n_fixed = 0\n",
    "else:\n",
    "    n_fixed = 1\n",
    "    \n",
    "# Prompt user to confirm the total number of experiments to run    \n",
    "input_str = input('Total number of experiments to run: ' + str((num_expts+ n_fixed)*num_reps) + '. Confirm? (y/n) ')\n",
    "if input_str=='y' or input_str=='Y' or input_str=='yes' or input_str=='Yes':\n",
    "    \n",
    "    # Write schedule to file\n",
    "    sch_file = re.make_schedule(paths['sch'], change_var=change_var,  light_start=light_start, ramp2_dur_sec=None,\n",
    "                                light_end=light_end, light_btwn=light_btwn, start_dur_min=start_dur_min, end_dur_min=end_dur_min, \n",
    "                                min_val=min_rampdur_sec, max_val=max_rampdur_sec, num_reps=num_reps, num_trial=num_expts, btwn_period_min=btwn_period_min, pre_ramp_dur_sec=pre_ramp_dur_sec, post_ramp_dur_sec=post_ramp_dur_sec, start_delay_min=start_delay_min, fixed_rampdur_sec=fixed_rampdur_sec)\n",
    "\n",
    "else:\n",
    "    raise ValueError('Incorrect inputs, check and rerun schedule code. Exiting.')"
   ]
  },
  {
   "attachments": {},
   "cell_type": "markdown",
   "metadata": {},
   "source": [
    "## Make schedule for experiments that vary ramp (2x) duration \n",
    "(two ramp per experiment)\n",
    "\n",
    "A similar structure to the following code could be used where change_var is set to 'start_dur_min', or 'end_dur_min'."
   ]
  },
  {
   "cell_type": "code",
   "execution_count": null,
   "metadata": {},
   "outputs": [],
   "source": [
    "# Variable to change across experiments\n",
    "change_var = 'ramp_dur_sec'\n",
    "\n",
    "# Duration of ramp before and after experiment (s)\n",
    "pre_ramp_dur_sec = 1\n",
    "post_ramp_dur_sec = 3\n",
    "\n",
    "# Delay before starting experiment (min)\n",
    "start_delay_min = 5/60\n",
    "\n",
    "# list of starting, end (middle) and return(final) light levels\n",
    "light_start = 1\n",
    "light_end   = 0\n",
    "light_return = 1\n",
    "\n",
    "# Light intensity between experiments\n",
    "light_btwn = 1\n",
    "\n",
    "# Duration that each level is fixed at the start and end of experiment (min)\n",
    "start_dur_min = 3/60\n",
    "end_dur_min   = 3/60\n",
    "return_dur_min = 3/60\n",
    "\n",
    "# Duration for the ramp of changes in light level (s)\n",
    "min_rampdur_sec = 1\n",
    "max_rampdur_sec = 3\n",
    "\n",
    "# number of replicates of each ramp duration\n",
    "num_reps = 3\n",
    "\n",
    "# add an extra ramp duration that is fixed\n",
    "fixed_rampdur_sec = np.array([1])\n",
    "#fixed_rampdur_sec = None\n",
    "\n",
    "# Total number of variable experiments to run\n",
    "num_expts = 3\n",
    "\n",
    "# Period of time bwteen expts (min)\n",
    "btwn_period_min = 7/60\n",
    "\n",
    "# Prompt user to confirm the total number of experiments to run\n",
    "# check if fixed ramp duration is included\n",
    "if fixed_rampdur_sec==None:\n",
    "    n_fixed = 0\n",
    "else:\n",
    "    n_fixed = 1\n",
    "    \n",
    "# Prompt user to confirm the total number of experiments to run    \n",
    "input_str = input('Total number of experiments to run: ' + str((num_expts+ n_fixed)*num_reps) + '. Confirm? (y/n) ')\n",
    "if input_str=='y' or input_str=='Y' or input_str=='yes' or input_str=='Yes':\n",
    "\n",
    "    # Write schedule to file\n",
    "    sch_file = re.make_schedule(paths['sch'], change_var=change_var,  light_start=light_start, \n",
    "                                light_end=light_end, light_return=light_return, light_btwn=light_btwn, start_dur_min=start_dur_min, end_dur_min=end_dur_min, return_dur_min=return_dur_min, min_val=min_rampdur_sec, max_val=max_rampdur_sec, num_reps=num_reps, num_trial=num_expts, btwn_period_min=btwn_period_min, pre_ramp_dur_sec=pre_ramp_dur_sec, post_ramp_dur_sec=post_ramp_dur_sec, start_delay_min=start_delay_min, fixed_rampdur_sec=fixed_rampdur_sec)\n",
    "    \n",
    "else:\n",
    "    raise ValueError('Incorrect desired inputs, check numbers and rerun schedule code. Exiting.')    "
   ]
  },
  {
   "attachments": {},
   "cell_type": "markdown",
   "metadata": {},
   "source": [
    "## Execute experiments on a schedule"
   ]
  },
  {
   "cell_type": "code",
   "execution_count": null,
   "metadata": {},
   "outputs": [],
   "source": [
    "# Set this path to the schedule file you want to run\n",
    "sch_file = paths['sch'] + os.sep + '2023-06-14_sch03.csv'\n",
    "\n",
    "# Take number on video file for first recording\n",
    "take_num_start = 30\n",
    "\n",
    "# Execute experiments from schedule\n",
    "re.run_experiment_schedule(dmx, aud_path=aud_path, log_path=log_path, \n",
    "    schedule_path=sch_file, movie_prefix=moviefile_prefix, LED_IP=LED_IP, \n",
    "    control_hw=control_hw, take_num_start=take_num_start)"
   ]
  }
 ],
 "metadata": {
  "kernelspec": {
   "display_name": "wake",
   "language": "python",
   "name": "python3"
  },
  "language_info": {
   "codemirror_mode": {
    "name": "ipython",
    "version": 3
   },
   "file_extension": ".py",
   "mimetype": "text/x-python",
   "name": "python",
   "nbconvert_exporter": "python",
   "pygments_lexer": "ipython3",
   "version": "3.9.16"
  },
  "orig_nbformat": 4,
  "vscode": {
   "interpreter": {
    "hash": "93561776b2f930f69495f149764a0242b692f45043c9dfc6934fce9a995162d0"
   }
  }
 },
 "nbformat": 4,
 "nbformat_minor": 2
}
