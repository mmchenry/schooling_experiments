{
 "cells": [
  {
   "cell_type": "markdown",
   "metadata": {},
   "source": [
    "# Overview\n",
    "\n",
    "This notebook runs the code for performing schooling experiments. We used a Luxli ORC-Taiko-2x1 LED light source controlled with an Enttex DMX USB Pro via a 5-pin DMX cable. The Python package to control this hardware (DMXEnttecPro) can be found on [github](https://github.com/SavinaRoja/DMXEnttecPro)."
   ]
  },
  {
   "cell_type": "markdown",
   "metadata": {},
   "source": [
    "# Packages"
   ]
  },
  {
   "cell_type": "code",
   "execution_count": 1,
   "metadata": {},
   "outputs": [],
   "source": [
    "from DMXEnttecPro import Controller\n",
    "import numpy as np\n",
    "import def_runexperiments as re"
   ]
  },
  {
   "cell_type": "markdown",
   "metadata": {},
   "source": [
    "# Hardware setup\n",
    "\n",
    "You can first find the Enttec device by typing the folling at the terminal:\n",
    "\n",
    "> python -m DMXEnttecPro.utils\n",
    "\n",
    "which gave me the following:\n",
    "\n",
    ">/dev/cu.usbserial-EN373474 <br>\n",
    ">  name: cu.usbserial-EN373474 <br> \n",
    ">  description: DMX USB PRO<br>\n",
    ">  hwid: USB VID:PID=0403:6001 SER=EN373474 LOCATION=0-1.1.1<br>\n",
    ">  vid: 1027<br>\n",
    ">  pid: 24577<br>\n",
    ">  serial_number: EN373474<br>\n",
    ">  location: 0-1.1.1<br>\n",
    ">  manufacturer: ENTTEC<br>\n",
    ">  product: DMX USB PRO<br>\n",
    ">  interface: None<br>\n",
    "\n",
    "The first line is what you'll want to copy and paste below for your hardware."
   ]
  },
  {
   "cell_type": "markdown",
   "metadata": {},
   "source": [
    "## Parameters"
   ]
  },
  {
   "cell_type": "code",
   "execution_count": 2,
   "metadata": {},
   "outputs": [],
   "source": [
    "# Address for the Enttec USB device (see above)\n",
    "hw_address = \"/dev/cu.usbserial-EN373474\"\n",
    "\n",
    "# Path to time-code audio file\n",
    "aud_path = \"/Users/mmchenry/Documents/Projects/waketracking/test.m4a\""
   ]
  },
  {
   "cell_type": "markdown",
   "metadata": {},
   "source": [
    "## Initialize hardware\n",
    "\n",
    "Run these lines for all of the programs that you want to run below."
   ]
  },
  {
   "cell_type": "code",
   "execution_count": 3,
   "metadata": {},
   "outputs": [],
   "source": [
    "#  Initialize hardware\n",
    "dmx = Controller(hw_address, auto_submit=True, dmx_size=32)\n",
    "\n",
    "# Set output rate at maximum\n",
    "dmx.set_dmx_parameters(output_rate=0)"
   ]
  },
  {
   "cell_type": "markdown",
   "metadata": {},
   "source": [
    "# Programs\n",
    "\n",
    "Select which of the cells below that make sense for the experiment that you want to run."
   ]
  },
  {
   "cell_type": "markdown",
   "metadata": {},
   "source": [
    "## Fixed light intensity"
   ]
  },
  {
   "cell_type": "code",
   "execution_count": 4,
   "metadata": {},
   "outputs": [],
   "source": [
    "# Specify light intensity (from 0 to 1)\n",
    "light_intensity = 0.5\n",
    "\n",
    "# Sets DMX channel 1 to max 255 (Channel 1 is the intensity)\n",
    "dmx.set_channel(1, int(light_intensity*255))  "
   ]
  },
  {
   "cell_type": "markdown",
   "metadata": {},
   "source": [
    "## Ramp down and then up\n",
    "\n",
    "Changing light intensity at a constant rate."
   ]
  },
  {
   "cell_type": "code",
   "execution_count": 4,
   "metadata": {},
   "outputs": [
    {
     "name": "stdout",
     "output_type": "stream",
     "text": [
      "Time (s): 92.49, Writing to channel 1: 0.49\n"
     ]
    }
   ],
   "source": [
    "\n",
    "# list of light levels\n",
    "light_level = np.array([1, 0, 0.5])\n",
    "\n",
    "# Duration that each level is fixed\n",
    "light_dur = np.array([2, 3, 4])\n",
    "\n",
    "# Duration for the changes in light level\n",
    "ramp_dur = np.array([0.5, 0.1])\n",
    "\n",
    "# Dataframe of light and control levels \n",
    "df = re.make_ramp(light_level, light_dur, ramp_dur, plot_data=False)\n",
    "\n",
    "# Play control levels into Enttec DMX\n",
    "re.run_program(df, dmx, aud_path=aud_path)\n",
    "\n",
    "# print(df)"
   ]
  },
  {
   "cell_type": "markdown",
   "metadata": {},
   "source": []
  }
 ],
 "metadata": {
  "kernelspec": {
   "display_name": "Python 3.9.13 ('track')",
   "language": "python",
   "name": "python3"
  },
  "language_info": {
   "codemirror_mode": {
    "name": "ipython",
    "version": 3
   },
   "file_extension": ".py",
   "mimetype": "text/x-python",
   "name": "python",
   "nbconvert_exporter": "python",
   "pygments_lexer": "ipython3",
   "version": "3.9.13"
  },
  "orig_nbformat": 4,
  "vscode": {
   "interpreter": {
    "hash": "a18ed5b730d03e3339ca69a3de066a30fd4289901f640e2ef06dab74b55af943"
   }
  }
 },
 "nbformat": 4,
 "nbformat_minor": 2
}
