{
 "cells": [
  {
   "cell_type": "markdown",
   "metadata": {},
   "source": [
    "# Overview\n",
    "\n",
    "This notebook outlines a workflow and executes key code for batch processing of autotracking.\n",
    "\n"
   ]
  },
  {
   "cell_type": "markdown",
   "metadata": {},
   "source": [
    "# Packages, paths, and parameters\n",
    "You'll need to execute the next cell for all of the code that follows. Make sure that the root_code and root_proj paths are correct for your system."
   ]
  },
  {
   "cell_type": "code",
   "execution_count": null,
   "metadata": {},
   "outputs": [],
   "source": [
    "import sys\n",
    "import os\n",
    "import def_definepaths as dd\n",
    "import def_acquisition as da\n",
    "import numpy as np\n",
    "import cv2 as cv\n",
    "\n",
    "# Root path for code on your system (can be set to None if you want to use give_paths to define them)\n",
    "root_code = None\n",
    "\n",
    "# Root path for the data and videos for the project\n",
    "root_proj = None\n",
    "\n",
    "# Get paths (specific to system running code)\n",
    "path = dd.give_paths(root_code=root_code, root_proj=root_proj)\n",
    "\n",
    "# Add path to kineKit 'sources' directory\n",
    "sys.path.insert(0, path['kinekit'] + os.sep + 'sources')\n",
    "\n",
    "# Import from kineKit\n",
    "import acqfunctions as af\n",
    "import videotools as vt\n",
    "\n",
    "# Raw video extension\n",
    "vid_ext_raw = 'MOV'\n",
    "\n",
    "# Compressed video quality level (0 to 1, where 1 is no compression)\n",
    "vid_quality = 0.75"
   ]
  },
  {
   "cell_type": "markdown",
   "metadata": {},
   "source": [
    "# Create mask\n",
    "\n",
    "You'll need to create a new mask whenever the position of the tank changes in the video frame. Follow the following steps to create a new mask."
   ]
  },
  {
   "cell_type": "markdown",
   "metadata": {},
   "source": [
    "## Measure the region-of-interest (ROI)\n",
    "\n",
    "Here the aim is to define an ellipical region-of-interest where the tank resides within the video frames.\n",
    "\n",
    "1. Set the 'make_video' column in the 'experiment_log.csv' file to a value of 1 for the video for which you want to create a mask.\n",
    "\n",
    "1. Set all other 'make_video' rows to 0. If there is more than one row set to 1 then the code will use the first in the list.\n",
    "\n",
    "1. Run the cell below to save a single frame from the video, which is saved to the 'masks' directory.\n",
    "\n",
    "1. After the frame is generated, open it up in [Fiji](https://imagej.net/software/fiji/downloads) (or ImageJ), use the ellipse tool to draw around the tank margin. Be sure not to cut off any portion of the tank where a fish might end up. All areas outside of the ROI will be ignored.\n",
    "\n",
    "1. Once the ellipse has been drawn, select Analyze:Measure in the pull-down menus to find the region-of-interest coordinates.\n",
    "\n",
    "1. Enter the value for 'BX' as 'roi_x' in the experiment_log (enter values online in Google Sheets). Do the same for BY->roi_y, Width->roi_w, Height->roi_h. Copy and paste the values to all rows corresponding to videos that use that same ROI.\n",
    "\n",
    "1. Make sure that the local version of experiment_log matches the values as the Google Sheet. This can be done by redownloading the CSV file, or copy and pasting values to the local copy. \n",
    "\n"
   ]
  },
  {
   "cell_type": "code",
   "execution_count": null,
   "metadata": {},
   "outputs": [],
   "source": [
    "# Index of video in cat list to extract video\n",
    "vid_index = 0\n",
    "\n",
    "# Extract experiment catalog info\n",
    "cat = af.get_cat_info(path['cat'])\n",
    "\n",
    "# Filename for frame of current sequence\n",
    "filename = cat.date[vid_index] + '_' + format(cat.trial_num[vid_index],'03') + '_frame1'\n",
    "\n",
    "# Define path for video\n",
    "full_path = path['vidin'] + os.sep + cat.video_filename[vid_index] + '.' + vid_ext_raw\n",
    "\n",
    "# Path for video frame\n",
    "frame_path = path['mask'] + os.sep + filename + '.jpg'\n",
    "\n",
    "# Extract frame and save to 'mask' directory\n",
    "im = vt.get_frame(full_path)\n",
    "result = cv.imwrite(frame_path, im)\n",
    "\n",
    "if result is False:\n",
    "    print('Save to the following path failed: ' + frame_path)\n",
    "else:\n",
    "    print('Video frame saved to: ' + frame_path)"
   ]
  },
  {
   "cell_type": "markdown",
   "metadata": {},
   "source": [
    "## Create the mask image\n",
    "\n",
    "1. As in step above, the cell below will use the first row for which make_video=1 in the 'experiment_log.csv' file to define the ROI for the mask, so adjust the spreadsheet accordingly.\n",
    "\n",
    "1. The code will prompt you to choose a filename for the mask image and will save that file to the 'masks' directory.\n",
    "\n",
    "1. Once completed, enter the mask filename (without the 'png' extension) into the mask_filename column of experiment_log for all experiments that should use that mask."
   ]
  },
  {
   "cell_type": "code",
   "execution_count": null,
   "metadata": {},
   "outputs": [],
   "source": [
    "# Index of video in cat list to extract video\n",
    "vid_index = 0\n",
    "\n",
    "# Extract experiment catalog info\n",
    "cat = af.get_cat_info(path['cat'])\n",
    "\n",
    "# Define path to raw video\n",
    "full_path = path['vidin'] + os.sep + cat.video_filename[vid_index] + '.' + vid_ext_raw\n",
    "\n",
    "# Extract video frame \n",
    "im = vt.get_frame(full_path)\n",
    "\n",
    "# Make frame a gray field\n",
    "im = int(256/2) + 0*im\n",
    "\n",
    "# Extract roi coordinates\n",
    "x_roi = float(cat.roi_x[vid_index])\n",
    "y_roi = float(cat.roi_y[vid_index])\n",
    "w_roi = float(cat.roi_w[vid_index])\n",
    "h_roi = float(cat.roi_h[vid_index])\n",
    "xC = x_roi + w_roi/2\n",
    "yC = y_roi + h_roi/2\n",
    "dims = (int(np.ceil(w_roi/2)), int(np.ceil(h_roi/2)))\n",
    "cntr = (int(x_roi + w_roi/2), int(y_roi + h_roi/2))\n",
    "\n",
    "# Define circular image for mask\n",
    "im = cv.ellipse(im, cntr, dims, angle=0, startAngle=0, endAngle=360, color=(255,255,255),thickness=-1)\n",
    "\n",
    "# Start transparent image as a bunch of opaque white pixels\n",
    "trans_img = int(255)*np.ones((im.shape[0], im.shape[1], 4), dtype=np.uint8)\n",
    "\n",
    "# Make pixels around circle opaque gray\n",
    "trans_img[:,:,0] = int(256/2)\n",
    "trans_img[:,:,1] = int(256/2)\n",
    "trans_img[:,:,2] = int(256/2)\n",
    "\n",
    "# Set opacity (4th channel in image) to zero at white circle pixels in im\n",
    "trans_img[np.where(np.all(im[..., :3] == 255, -1))] = 0\n",
    "\n",
    "# Filename for frame of current sequence\n",
    "filename = cat.date[vid_index] + '_' + format(cat.trial_num[vid_index],'03') + '_mask'\n",
    "\n",
    "# Output mask file\n",
    "mask_path = path['mask'] + os.sep + filename + '.png'\n",
    "\n",
    "# Write mask image to disk\n",
    "result = cv.imwrite(mask_path, trans_img)\n",
    "# result = cv.imwrite(mask_path, im)\n",
    "\n",
    "if result is False:\n",
    "    print('Saving mask image the following path failed: ' + mask_path)\n",
    "else:\n",
    "    print('Mask image saved to: ' + mask_path)\n"
   ]
  },
  {
   "cell_type": "markdown",
   "metadata": {},
   "source": [
    "# Create compressed movies\n",
    "\n",
    "The code below will generate compressed videos for all experiments in experiment_log where analyze=1 and make_video=1. \n",
    "This is done in two steps.\n",
    "First, uncompressed masked movies are created and stored in the 'tmp' directory, then compressed and cropped movies are saved in 'pilot_compressed' (the tmp movies are then deleted).\n",
    "\n",
    "To speed up this step, we've parallelized the code (though you can skip this complexity by setting para_mode=False).\n",
    "So, you will want to adjust the num_cores parameter below to the number of cores in your machine.\n",
    "However, the code cannot handle a situations where you are converting more movies than there are cores.\n",
    "So, if you are converting fewer movies than you have cores, then allocate the number of cores to the total number of movies.\n",
    "\n",
    "In order for the parallel processing to work, open a terminal and activate the environment for this project (e.g., 'conda active wake' for the 'wake' environment), and run the following code, where the final number is the number of cores to be run:\n",
    "\n",
    "> ipcluster start -n 8\n",
    "\n",
    "You should get a message that \"Engines appear to have started successfully\", if things are working.\n",
    "\n",
    "Next, execute the batch_command function below."
   ]
  },
  {
   "cell_type": "code",
   "execution_count": null,
   "metadata": {},
   "outputs": [],
   "source": [
    "def batch_command(cmds):\n",
    "    \"\"\" Runs a series of command-line instructions (in cmds dataframe) in parallel \"\"\"\n",
    "\n",
    "    import ipyparallel as ipp\n",
    "    import subprocess\n",
    "\n",
    "    # Set up clients \n",
    "    client = ipp.Client()\n",
    "    type(client), client.ids\n",
    "\n",
    "    # Direct view allows shared data (balanced_view is the alternative)\n",
    "    direct_view = client[:]\n",
    "\n",
    "    # Function to execute the code\n",
    "    def run_command(idx):\n",
    "        import os\n",
    "        output = os.system(cmds_run.command[idx])\n",
    "        # output = subprocess.run(cmds_run.command[idx], capture_output=True)\n",
    "        # result = output.stdout.decode(\"utf-8\")\n",
    "        return output\n",
    "        # return idx\n",
    "\n",
    "    direct_view[\"cmds_run\"] = cmds\n",
    "\n",
    "    res = []\n",
    "    for n in range(len(direct_view)):\n",
    "        res.append(client[n].apply(run_command, n))\n",
    "    \n",
    "    return res"
   ]
  },
  {
   "cell_type": "markdown",
   "metadata": {},
   "source": [
    "The compressed videos are created in two steps. \n",
    "First, uncompressed videos are generated with a mask and saved in the 'tmp' folder. \n",
    "The cell below accomplishes this step, but note that the work is accomplished by sending the job to the terminal, which makes it look like here like the job is complete. \n",
    "After you have started the job, you can track its progress below."
   ]
  },
  {
   "cell_type": "code",
   "execution_count": null,
   "metadata": {},
   "outputs": [],
   "source": [
    "# Extract experiment catalog info\n",
    "cat = af.get_cat_info(path['cat'])\n",
    "\n",
    "# Whether to use parallel processing \n",
    "# (set to False when running this on a small number of movies)\n",
    "para_mode = True\n",
    "\n",
    "# Make the masked videos (stored in 'tmp' directory)\n",
    "cmds = af.convert_masked_videos(cat, in_path=path['vidin'], out_path=path['tmp'], \n",
    "            maskpath=path['mask'], vmode=False, imquality=1, para_mode=para_mode, echo=False)\n",
    "\n",
    "if para_mode:\n",
    "    # Run FFMPEG commands in parallel\n",
    "    results = batch_command(cmds)\n"
   ]
  },
  {
   "cell_type": "markdown",
   "metadata": {},
   "source": [
    "For parallel mode, you can check on the status of this job with the print command in the cell below.\n",
    "For each video that is being worked on, you should see this result:\n",
    "\n",
    "> <AsyncResult(run_command): pending>\n",
    "\n",
    "However, if there is a problem, then you will see something like this:\n",
    "\n",
    "> <AsyncResult(run_command): failed>\n",
    "\n",
    "When the job finishes correctly, then it will look like this:\n",
    "\n",
    "> <AsyncResult(run_command): finished>\n",
    "\n",
    "You can keep re-running the cell below each time you want to check on its status. If you have a lot of movies, then this can take a long time. \n",
    "Do not move to the next step until all videos are finished."
   ]
  },
  {
   "cell_type": "code",
   "execution_count": null,
   "metadata": {},
   "outputs": [],
   "source": [
    "if para_mode:\n",
    "    print(results)"
   ]
  },
  {
   "cell_type": "markdown",
   "metadata": {},
   "source": [
    "In the second step, the masked videos are compressed and cropped with parallel processing.\n",
    "This is achieved in a similar way, with the following cell."
   ]
  },
  {
   "cell_type": "code",
   "execution_count": null,
   "metadata": {},
   "outputs": [],
   "source": [
    "# Thickness (in pixels) of border around ROI\n",
    "border_pix = 10\n",
    "\n",
    "# Formulate command(s) for conversion\n",
    "cmds = af.convert_videos(cat, in_path=path['tmp'], out_path=path['vidout'], \n",
    "            vmode=False, imquality=vid_quality, suffix_in='mp4', para_mode=para_mode, echo=False, border_pix=border_pix)\n",
    "\n",
    "if para_mode:\n",
    "    # Run FFMPEG commands in parallel\n",
    "    results = batch_command(cmds)"
   ]
  },
  {
   "cell_type": "markdown",
   "metadata": {},
   "source": [
    "Again, you can check on the job status (parallel mode only):"
   ]
  },
  {
   "cell_type": "code",
   "execution_count": null,
   "metadata": {},
   "outputs": [],
   "source": [
    "if para_mode:\n",
    "    print(results)"
   ]
  },
  {
   "cell_type": "markdown",
   "metadata": {},
   "source": [
    "Once the job is finished, then you can survey the directories to make sure that all the videos have been compressed and the tmp files will be deleted:"
   ]
  },
  {
   "cell_type": "code",
   "execution_count": null,
   "metadata": {},
   "outputs": [],
   "source": [
    "# Re-extract experiment catalog info\n",
    "cat = af.get_cat_info(path['cat'])\n",
    "\n",
    "# Step through each experiment\n",
    "for c_row in cat.index:\n",
    "\n",
    "    # Input video path\n",
    "    vid_in_path = path['vidin'] + os.sep + cat.video_filename[c_row] + '.' + os.sep + vid_ext_raw\n",
    "\n",
    "    # Temp video path\n",
    "    vid_tmp_path = path['tmp'] + os.sep + cat.video_filename[c_row] + '.mp4'\n",
    "\n",
    "    # Output video path\n",
    "    vid_out_path = path['vidout'] + os.sep + cat.video_filename[c_row] + '.mp4'\n",
    "\n",
    "    # Check whether output file was not made\n",
    "    if not os.path.isfile(vid_out_path):\n",
    "\n",
    "        print('   Output movie NOT created successfully: ' + vid_out_path)\n",
    "\n",
    "        if os.path.isfile(vid_tmp_path):\n",
    "            print('   Also, temp. movie NOT created successfully: ' + vid_tmp_path)\n",
    "        else:\n",
    "            print('   But, temp. movie created successfully: ' + vid_tmp_path)\n",
    "\n",
    "    # If it was . . .\n",
    "    else:\n",
    "        print('   Output movie created successfully: ' + vid_out_path)\n",
    "\n",
    "        # Delete temp file\n",
    "        if os.path.isfile(vid_tmp_path):\n",
    "            os.remove(vid_tmp_path)"
   ]
  },
  {
   "cell_type": "markdown",
   "metadata": {},
   "source": [
    "# TGrabs generation of movies for TRex\n",
    "\n",
    "Cell below generates dv videos, which will be used by TRex, from compressed videos.\n",
    "This will be completed for each row of cat.\n"
   ]
  },
  {
   "cell_type": "code",
   "execution_count": null,
   "metadata": {},
   "outputs": [],
   "source": [
    "\n",
    "# Extract experiment catalog info\n",
    "cat = af.get_cat_info(path['cat'])\n",
    "\n",
    "# List of parameter headings in experiment_log that are to be passed to TGrabs\n",
    "param_list = ['threshold']\n",
    "\n",
    "# Loop thru each video listed in cat\n",
    "for c_row in cat.index:\n",
    "\n",
    "    # Define and check input path\n",
    "    path_in = path['vidout'] + os.sep + cat.video_filename[c_row] + '.mp4'\n",
    "    if not os.path.isfile(path_in):\n",
    "        raise OSError('Video file does not exist: ' + path_in)\n",
    "\n",
    "    # Output path\n",
    "    path_out = path['vidpv'] + os.sep + cat.video_filename[c_row] + '.pv'\n",
    "    # Start formulating the TGrabs command\n",
    "    command = f'tgrabs -i {path_in} -o {path_out} '\n",
    "\n",
    "    # Loop thru each parameter value included in cat\n",
    "    for param_c in param_list:\n",
    "        command += '-' + str(param_c) + ' ' + str(cat[param_c][0])\n",
    "\n",
    "    # Execute at the command line\n",
    "    os.system(command)"
   ]
  },
  {
   "cell_type": "markdown",
   "metadata": {},
   "source": [
    "# Running TRex"
   ]
  },
  {
   "cell_type": "code",
   "execution_count": null,
   "metadata": {},
   "outputs": [],
   "source": [
    "# Extract experiment catalog info\n",
    "cat = af.get_cat_info(path['cat'])\n",
    "\n",
    "# List of parameter headings in experiment_log that are to be passed to TGrabs\n",
    "# param_list = ['threshold']\n",
    "\n",
    "# Loop thru each video listed in cat\n",
    "for c_row in cat.index:\n",
    "\n",
    "    # Define and check input path\n",
    "    path_in = path['vidpv'] + os.sep + cat.video_filename[c_row] + '.pv'\n",
    "    if not os.path.isfile(path_in):\n",
    "        raise OSError('Video file does not exist: ' + path_in)\n",
    "    \n",
    "    # Start formulating the TGrabs command\n",
    "    command = f'trex -i {path_in} '\n",
    "\n",
    "    # Loop thru each parameter value included in cat\n",
    "    # for param_c in param_list:\n",
    "    #     command += '-' + str(param_c) + ' ' + str(cat[param_c][0])\n",
    "\n",
    "    # Execute at the command line\n",
    "    result = os.system(command)"
   ]
  }
 ],
 "metadata": {
  "kernelspec": {
   "display_name": "Python 3.7.13 ('tracking')",
   "language": "python",
   "name": "python3"
  },
  "language_info": {
   "codemirror_mode": {
    "name": "ipython",
    "version": 3
   },
   "file_extension": ".py",
   "mimetype": "text/x-python",
   "name": "python",
   "nbconvert_exporter": "python",
   "pygments_lexer": "ipython3",
   "version": "3.7.13"
  },
  "orig_nbformat": 4,
  "vscode": {
   "interpreter": {
    "hash": "a9ac78da836c15d14d5a5521b925aeaca1789e49b2e496cd1b8f339b760ec599"
   }
  }
 },
 "nbformat": 4,
 "nbformat_minor": 2
}
