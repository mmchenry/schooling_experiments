{
 "cells": [
  {
   "cell_type": "markdown",
   "metadata": {},
   "source": [
    "# Overview\n",
    "\n"
   ]
  },
  {
   "cell_type": "markdown",
   "metadata": {},
   "source": [
    "# Paths and parameters\n",
    "You'll need to execute the next cell for all cells that follow."
   ]
  },
  {
   "cell_type": "code",
   "execution_count": null,
   "metadata": {},
   "outputs": [],
   "source": [
    "import sys\n",
    "import os\n",
    "import def_definepaths as dd\n",
    "import def_acquisition as da\n",
    "import numpy as np\n",
    "import cv2 as cv\n",
    "\n",
    "# Get paths (specific to system running code)\n",
    "path = dd.give_paths()\n",
    "\n",
    "# Add path to kineKit 'sources' directory\n",
    "sys.path.insert(0, path['kinekit'] + os.sep + 'sources')\n",
    "\n",
    "# Import from kineKit\n",
    "import acqfunctions as af\n",
    "import videotools as vt\n",
    "\n",
    "# Raw video extension\n",
    "vid_ext_raw = 'MOV'\n",
    "\n",
    "# Video quality level (0 to 1, where 1 is no compression)\n",
    "vid_quality = 0.75"
   ]
  },
  {
   "cell_type": "markdown",
   "metadata": {},
   "source": [
    "# Create mask\n",
    "\n",
    "You'll need to create a new mask whenever the position of the tank changes in the video frame. Follow the following steps to create a new mask."
   ]
  },
  {
   "cell_type": "markdown",
   "metadata": {},
   "source": [
    "## Measure the region-of-interest (ROI)\n",
    "\n",
    "Here the aim is to define an ellipical region-of-interest where the tank resides within the video frames.\n",
    "\n",
    "1. Set the 'make_video' column in the 'experiment_log.csv' file to a value of 1 for the video for which you want to create a mask.\n",
    "\n",
    "1. Set all other 'make_video' rows to 0. If there is more than one row set to 1 then the code will use the first in the list.\n",
    "\n",
    "1. Run the cell below to save a single frame from the video, which is saved to the 'masks' directory.\n",
    "\n",
    "1. After the frame is generated, open it up in ImageJ, use the ellipse tool to draw around the tank margin. Be sure not to cut off any portion of the tank where a fish might end up. All areas outside of the ROI will be ignored.\n",
    "\n",
    "1. Once the ellipse has been drawn, select Analyze:Measure in the pull-down menus to find the region-of-interest coordinates.\n",
    "\n",
    "1. Enter the value for 'BX' as 'roi_x' in the experiment_log (enter values online in Google Sheets). Do the same for BY->roi_y, Width->roi_w, Height->roi_h. Copy and paste the values to all rows corresponding to videos that use that same ROI.\n",
    "\n",
    "1. Make sure that the local version of experiment_log matches the values as the Google Sheet. This can be done by redownloading the CSV file, or copy and pasting values to the local copy. \n",
    "\n"
   ]
  },
  {
   "cell_type": "code",
   "execution_count": null,
   "metadata": {},
   "outputs": [],
   "source": [
    "# Extract experiment catalog info\n",
    "cat = af.get_cat_info(path['cat'])\n",
    "\n",
    "# Index of video in cat list to extract video\n",
    "vid_index = 0\n",
    "\n",
    "# Define path\n",
    "full_path = path['vidin'] + os.sep + cat.video_filename[vid_index] + '.' + vid_ext_raw\n",
    "\n",
    "# Extract frame and save to 'mask' directory\n",
    "im = vt.get_frame(full_path)\n",
    "cv.imwrite(path['mask'] + os.sep + 'frame_from_' + cat.video_filename[vid_index] + '.jpg', im)"
   ]
  },
  {
   "cell_type": "markdown",
   "metadata": {},
   "source": [
    "## Create the mask image\n",
    "\n",
    "1. As in step above, the cell below will use the first row for which make_video=1 in the 'experiment_log.csv' file to define the ROI for the mask, so adjust the spreadsheet accordingly.\n",
    "\n",
    "1. The code will prompt you to choose a filename for the mask image and will save that file to the 'masks' directory.\n",
    "\n",
    "1. Once completed, enter the mask filename (without the 'png' extension) into the mask_filename column of experiment_log for all experiments that should use that mask."
   ]
  },
  {
   "cell_type": "code",
   "execution_count": null,
   "metadata": {},
   "outputs": [],
   "source": [
    "# Extract experiment catalog info\n",
    "cat = af.get_cat_info(path['cat'])\n",
    "\n",
    "# Index of video in cat list to extract video\n",
    "vid_index = 0\n",
    "\n",
    "# Define path\n",
    "full_path = path['vidin'] + os.sep + cat.video_filename[vid_index] + '.' + vid_ext_raw\n",
    "\n",
    "# Extract video frame \n",
    "im = vt.get_frame(full_path)\n",
    "\n",
    "# Extract roi coordinates\n",
    "x_roi = float(cat.roi_x[vid_index])\n",
    "y_roi = float(cat.roi_y[vid_index])\n",
    "w_roi = float(cat.roi_w[vid_index])\n",
    "h_roi = float(cat.roi_h[vid_index])\n",
    "xC = x_roi + w_roi/2\n",
    "yC = y_roi + h_roi/2\n",
    "dims = (int(np.ceil(w_roi/2)), int(np.ceil(h_roi/2)))\n",
    "cntr = (int(x_roi + w_roi/2), int(y_roi + h_roi/2))\n",
    "\n",
    "# Define transparent image for mask\n",
    "im = cv.ellipse(im, cntr, dims, angle=0, startAngle=0, endAngle=360, color=(255,255,255),thickness=-1)\n",
    "trans_img = int(255/3) * np.ones((im.shape[0], im.shape[1], 4), dtype=np.uint8)\n",
    "trans_img[np.where(np.all(im[..., :3] == 255, -1))] = 0\n",
    "\n",
    "# Write mask file to disk\n",
    "while True:\n",
    "    filename = input('What filename do you want to use for the mask?')\n",
    "    if os.path.isfile(path['mask'] + os.sep + filename + '.png'):\n",
    "        print('The filename ' + filename + ' already exists. Try again.')\n",
    "    else:\n",
    "        cv.imwrite(path['mask'] + os.sep + filename + '.png', trans_img)\n",
    "        print('Mask file saved: ' + path['mask'] + os.sep + filename + '.png')\n",
    "        break"
   ]
  },
  {
   "cell_type": "markdown",
   "metadata": {},
   "source": [
    "# Create compressed movies\n",
    "\n",
    "The code below will generate compressed videos for all experiments in experiment_log where analyze=1 and make_video=1. \n",
    "This is done in two steps.\n",
    "First, uncompressed masked movies are created and stored in the 'tmp' directory, then compressed and cropped movies are saved in 'pilot_compressed' (the tmp movies are then deleted)."
   ]
  },
  {
   "cell_type": "code",
   "execution_count": null,
   "metadata": {},
   "outputs": [],
   "source": [
    "# Extract experiment catalog info\n",
    "cat = af.get_cat_info(path['cat'])\n",
    "\n",
    "# Make the masked videos (stored in 'tmp' directory)\n",
    "print(' ')\n",
    "print('=====================================================')\n",
    "print('First, creating masked videos . . .')\n",
    "af.convert_masked_videos(cat, in_path=path['vidin'], out_path=path['tmp'], maskpath=path['mask'], vmode=False, imquality=1)\n",
    "\n",
    "\n",
    "# Make the downsampled/cropped videos  (stored in 'pilot_compressed' directory)\n",
    "print(' ')\n",
    "print('=====================================================')\n",
    "print('Second, creating downsampled and cropped videos . . .')\n",
    "af.convert_videos(cat, in_path=path['tmp'], out_path=path['vidout'], vmode=False, imquality=vid_quality, suffix_in='mp4')\n",
    "\n",
    "# Survey resulting directories \n",
    "# Loop thru each video listed in cat\n",
    "print(' ')\n",
    "print('=====================================================')\n",
    "print('Surveying results . . .')\n",
    "for c_row in cat.index:\n",
    "    # Input video path\n",
    "    vid_in_path = path['vidin'] + os.sep + cat.video_filename[c_row] + '.' + os.sep + vid_ext_raw\n",
    "\n",
    "    # Temp video path\n",
    "    vid_tmp_path = path['tmp'] + os.sep + cat.video_filename[c_row] + '.mp4'\n",
    "\n",
    "    # Output video path\n",
    "    vid_out_path = path['vidout'] + os.sep + cat.video_filename[c_row] + '.mp4'\n",
    "\n",
    "    # Check that output file was made\n",
    "    if not os.path.isfile(vid_out_path):\n",
    "\n",
    "        print('   Output movie NOT created successfully: ' + vid_out_path)\n",
    "\n",
    "        if os.path.isfile(vid_tmp_path):\n",
    "            print('   Also, temp. movie NOT created successfully: ' + vid_tmp_path)\n",
    "        else:\n",
    "            print('   But, temp. movie created successfully: ' + vid_tmp_path)\n",
    "    else:\n",
    "\n",
    "        print('   Output movie created successfully: ' + vid_out_path)\n",
    "\n",
    "        # Delete temp file\n",
    "        if os.path.isfile(vid_tmp_path):\n",
    "            os.remove(vid_tmp_path)"
   ]
  }
 ],
 "metadata": {
  "kernelspec": {
   "display_name": "Python 3.10.4 ('wake')",
   "language": "python",
   "name": "python3"
  },
  "language_info": {
   "codemirror_mode": {
    "name": "ipython",
    "version": 3
   },
   "file_extension": ".py",
   "mimetype": "text/x-python",
   "name": "python",
   "nbconvert_exporter": "python",
   "pygments_lexer": "ipython3",
   "version": "3.10.4"
  },
  "orig_nbformat": 4,
  "vscode": {
   "interpreter": {
    "hash": "b5bef4c178dcc9b6fc2de9db8fea5a935f0a2257ca29d45eaa89423719174cb8"
   }
  }
 },
 "nbformat": 4,
 "nbformat_minor": 2
}
