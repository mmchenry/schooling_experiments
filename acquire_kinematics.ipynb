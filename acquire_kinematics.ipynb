{
 "cells": [
  {
   "cell_type": "markdown",
   "metadata": {},
   "source": [
    "# Overview\n",
    "\n",
    "This notebook outlines a workflow and executes key code for batch processing of autotracking.\n",
    "\n"
   ]
  },
  {
   "cell_type": "markdown",
   "metadata": {},
   "source": [
    "# Packages, paths, and parameters\n",
    "You'll need to execute the next cell for all of the code that follows. Make sure that the root_code and root_proj paths are correct for your system."
   ]
  },
  {
   "cell_type": "code",
   "execution_count": 1,
   "metadata": {},
   "outputs": [],
   "source": [
    "import sys\n",
    "import os\n",
    "import def_definepaths as dd\n",
    "import def_acquisition as da\n",
    "import numpy as np\n",
    "import cv2 as cv\n",
    "\n",
    "# Root path for code on your system (can be set to None if you want to use give_paths to define them)\n",
    "root_code = None\n",
    "\n",
    "# Root path for the data and videos for the project\n",
    "root_proj = None\n",
    "\n",
    "# Get paths (specific to system running code)\n",
    "path = dd.give_paths(root_code=root_code, root_proj=root_proj)\n",
    "\n",
    "# Add path to kineKit 'sources' directory\n",
    "sys.path.insert(0, path['kinekit'] + os.sep + 'sources')\n",
    "\n",
    "# Import from kineKit\n",
    "import acqfunctions as af\n",
    "import videotools as vt\n",
    "\n",
    "# Raw video extension\n",
    "vid_ext_raw = 'MOV'\n",
    "\n",
    "# Compressed video quality level (0 to 1, where 1 is no compression)\n",
    "vid_quality = 0.75"
   ]
  },
  {
   "cell_type": "markdown",
   "metadata": {},
   "source": [
    "# Create mask\n",
    "\n",
    "You'll need to create a new mask whenever the position of the tank changes in the video frame. Follow the following steps to create a new mask."
   ]
  },
  {
   "cell_type": "markdown",
   "metadata": {},
   "source": [
    "## Measure the region-of-interest (ROI)\n",
    "\n",
    "Here the aim is to define an ellipical region-of-interest where the tank resides within the video frames.\n",
    "\n",
    "1. Set the 'make_video' column in the 'experiment_log.csv' file to a value of 1 for the video for which you want to create a mask.\n",
    "\n",
    "1. Set all other 'make_video' rows to 0. If there is more than one row set to 1 then the code will use the first in the list.\n",
    "\n",
    "1. Run the cell below to save a single frame from the video, which is saved to the 'masks' directory.\n",
    "\n",
    "1. After the frame is generated, open it up in ImageJ, use the ellipse tool to draw around the tank margin. Be sure not to cut off any portion of the tank where a fish might end up. All areas outside of the ROI will be ignored.\n",
    "\n",
    "1. Once the ellipse has been drawn, select Analyze:Measure in the pull-down menus to find the region-of-interest coordinates.\n",
    "\n",
    "1. Enter the value for 'BX' as 'roi_x' in the experiment_log (enter values online in Google Sheets). Do the same for BY->roi_y, Width->roi_w, Height->roi_h. Copy and paste the values to all rows corresponding to videos that use that same ROI.\n",
    "\n",
    "1. Make sure that the local version of experiment_log matches the values as the Google Sheet. This can be done by redownloading the CSV file, or copy and pasting values to the local copy. \n",
    "\n"
   ]
  },
  {
   "cell_type": "code",
   "execution_count": 55,
   "metadata": {},
   "outputs": [
    {
     "name": "stderr",
     "output_type": "stream",
     "text": [
      "[ WARN:0@11117.722] global /private/var/folders/nz/j6p8yfhx1mv_0grj5xl4650h0000gp/T/abs_562_cazh1h/croots/recipe/opencv-suite_1664548333142/work/modules/videoio/src/cap_gstreamer.cpp (2386) handleMessage OpenCV | GStreamer warning: your GStreamer installation is missing a required plugin\n",
      "[ WARN:0@11117.722] global /private/var/folders/nz/j6p8yfhx1mv_0grj5xl4650h0000gp/T/abs_562_cazh1h/croots/recipe/opencv-suite_1664548333142/work/modules/videoio/src/cap_gstreamer.cpp (2402) handleMessage OpenCV | GStreamer warning: Embedded video playback halted; module uridecodebin3 reported: Your GStreamer installation is missing a plug-in.\n",
      "[ WARN:0@11117.722] global /private/var/folders/nz/j6p8yfhx1mv_0grj5xl4650h0000gp/T/abs_562_cazh1h/croots/recipe/opencv-suite_1664548333142/work/modules/videoio/src/cap_gstreamer.cpp (1356) open OpenCV | GStreamer warning: unable to start pipeline\n",
      "[ WARN:0@11117.722] global /private/var/folders/nz/j6p8yfhx1mv_0grj5xl4650h0000gp/T/abs_562_cazh1h/croots/recipe/opencv-suite_1664548333142/work/modules/videoio/src/cap_gstreamer.cpp (862) isPipelinePlaying OpenCV | GStreamer warning: GStreamer: pipeline have not been created\n"
     ]
    },
    {
     "data": {
      "text/plain": [
       "True"
      ]
     },
     "execution_count": 55,
     "metadata": {},
     "output_type": "execute_result"
    }
   ],
   "source": [
    "# Index of video in cat list to extract video\n",
    "vid_index = 0\n",
    "\n",
    "# Extract experiment catalog info\n",
    "cat = af.get_cat_info(path['cat'])\n",
    "\n",
    "# Filename for frame of current sequence\n",
    "filename = cat.date[vid_index] + '_' + format(cat.exp_num[vid_index],'03') + '_frame1'\n",
    "\n",
    "# Define path for video\n",
    "full_path = path['vidin'] + os.sep + cat.video_filename[vid_index] + '.' + vid_ext_raw\n",
    "\n",
    "# Extract frame and save to 'mask' directory\n",
    "im = vt.get_frame(full_path)\n",
    "cv.imwrite(path['mask'] + os.sep + filename + '.jpg', im)"
   ]
  },
  {
   "cell_type": "markdown",
   "metadata": {},
   "source": [
    "## Create the mask image\n",
    "\n",
    "1. As in step above, the cell below will use the first row for which make_video=1 in the 'experiment_log.csv' file to define the ROI for the mask, so adjust the spreadsheet accordingly.\n",
    "\n",
    "1. The code will prompt you to choose a filename for the mask image and will save that file to the 'masks' directory.\n",
    "\n",
    "1. Once completed, enter the mask filename (without the 'png' extension) into the mask_filename column of experiment_log for all experiments that should use that mask."
   ]
  },
  {
   "cell_type": "code",
   "execution_count": 6,
   "metadata": {},
   "outputs": [
    {
     "name": "stderr",
     "output_type": "stream",
     "text": [
      "[ WARN:0@1292.406] global /private/var/folders/nz/j6p8yfhx1mv_0grj5xl4650h0000gp/T/abs_562_cazh1h/croots/recipe/opencv-suite_1664548333142/work/modules/videoio/src/cap_gstreamer.cpp (2386) handleMessage OpenCV | GStreamer warning: your GStreamer installation is missing a required plugin\n",
      "[ WARN:0@1292.406] global /private/var/folders/nz/j6p8yfhx1mv_0grj5xl4650h0000gp/T/abs_562_cazh1h/croots/recipe/opencv-suite_1664548333142/work/modules/videoio/src/cap_gstreamer.cpp (2402) handleMessage OpenCV | GStreamer warning: Embedded video playback halted; module uridecodebin4 reported: Your GStreamer installation is missing a plug-in.\n",
      "[ WARN:0@1292.406] global /private/var/folders/nz/j6p8yfhx1mv_0grj5xl4650h0000gp/T/abs_562_cazh1h/croots/recipe/opencv-suite_1664548333142/work/modules/videoio/src/cap_gstreamer.cpp (1356) open OpenCV | GStreamer warning: unable to start pipeline\n",
      "[ WARN:0@1292.406] global /private/var/folders/nz/j6p8yfhx1mv_0grj5xl4650h0000gp/T/abs_562_cazh1h/croots/recipe/opencv-suite_1664548333142/work/modules/videoio/src/cap_gstreamer.cpp (862) isPipelinePlaying OpenCV | GStreamer warning: GStreamer: pipeline have not been created\n"
     ]
    },
    {
     "data": {
      "text/plain": [
       "True"
      ]
     },
     "execution_count": 6,
     "metadata": {},
     "output_type": "execute_result"
    }
   ],
   "source": [
    "# Index of video in cat list to extract video\n",
    "vid_index = 0\n",
    "\n",
    "# Extract experiment catalog info\n",
    "cat = af.get_cat_info(path['cat'])\n",
    "\n",
    "# Define path to raw video\n",
    "full_path = path['vidin'] + os.sep + cat.video_filename[vid_index] + '.' + vid_ext_raw\n",
    "\n",
    "# Extract video frame \n",
    "im = vt.get_frame(full_path)\n",
    "\n",
    "# Make frame a gray field\n",
    "im = int(256/2) + 0*im\n",
    "\n",
    "# Extract roi coordinates\n",
    "x_roi = float(cat.roi_x[vid_index])\n",
    "y_roi = float(cat.roi_y[vid_index])\n",
    "w_roi = float(cat.roi_w[vid_index])\n",
    "h_roi = float(cat.roi_h[vid_index])\n",
    "xC = x_roi + w_roi/2\n",
    "yC = y_roi + h_roi/2\n",
    "dims = (int(np.ceil(w_roi/2)), int(np.ceil(h_roi/2)))\n",
    "cntr = (int(x_roi + w_roi/2), int(y_roi + h_roi/2))\n",
    "\n",
    "# Define transparent image for mask\n",
    "im = cv.ellipse(im, cntr, dims, angle=0, startAngle=0, endAngle=360, color=(255,255,255),thickness=-1)\n",
    "trans_img = int(255/3) * np.ones((im.shape[0], im.shape[1], 4), dtype=np.uint8)\n",
    "trans_img[np.where(np.all(im[..., :3] == 255, -1))] = 0\n",
    "\n",
    "# Filename for frame of current sequence\n",
    "filename = cat.date[vid_index] + '_' + format(cat.exp_num[vid_index],'03') + '_mask'\n",
    "\n",
    "# Write mask image to disk\n",
    "cv.imwrite(path['mask'] + os.sep + filename + '.png', trans_img)\n"
   ]
  },
  {
   "cell_type": "markdown",
   "metadata": {},
   "source": [
    "# Create compressed movies\n",
    "\n",
    "The code below will generate compressed videos for all experiments in experiment_log where analyze=1 and make_video=1. \n",
    "This is done in two steps.\n",
    "First, uncompressed masked movies are created and stored in the 'tmp' directory, then compressed and cropped movies are saved in 'pilot_compressed' (the tmp movies are then deleted).\n",
    "\n",
    "To speed up this step, we've parallelized the code.\n",
    "So, you will want to adjust the num_cores parameter below to the number of cores in your machine.\n",
    "However, the code cannot handle a situations where you are converting more movies than there are cores.\n",
    "So, if you are converting fewer movies than you have cores, then allocate the number of cores to the total number of movies.\n",
    "\n",
    "In order for the parallel processing to work, open a terminal and activate the environment for this project (e.g., 'conda active wake' for the 'wake' environment), and run the following code, where the final number is the number of cores to be run:\n",
    "\n",
    "> ipcluster start -n 8\n",
    "\n",
    "You should get a message that \"Engines appear to have started successfully\", if things are working.\n",
    "\n",
    "Next, execute the batch_command function below."
   ]
  },
  {
   "cell_type": "code",
   "execution_count": null,
   "metadata": {},
   "outputs": [],
   "source": [
    "def batch_command(cmds):\n",
    "    \"\"\" Runs a series of command-line instructions (in cmds dataframe) in parallel \"\"\"\n",
    "\n",
    "    import ipyparallel as ipp\n",
    "    import subprocess\n",
    "\n",
    "    # Set up clients \n",
    "    client = ipp.Client()\n",
    "    type(client), client.ids\n",
    "\n",
    "    # Direct view allows shared data (balanced_view is the alternative)\n",
    "    direct_view = client[:]\n",
    "\n",
    "    # Function to execute the code\n",
    "    def run_command(idx):\n",
    "        import os\n",
    "        output = os.system(cmds_run.command[idx])\n",
    "        # output = subprocess.run(cmds_run.command[idx], capture_output=True)\n",
    "        # result = output.stdout.decode(\"utf-8\")\n",
    "        return output\n",
    "        # return idx\n",
    "\n",
    "    direct_view[\"cmds_run\"] = cmds\n",
    "\n",
    "    res = []\n",
    "    for n in range(len(direct_view)):\n",
    "        res.append(client[n].apply(run_command, n))\n",
    "    \n",
    "    return res"
   ]
  },
  {
   "cell_type": "markdown",
   "metadata": {},
   "source": [
    "The compressed videos are created in two steps. \n",
    "First, uncompressed videos are generated with a mask and saved in the 'tmp' folder. \n",
    "The cell below accomplishes this step, but note that the work is accomplished by sending the job to the terminal, which makes it look like here like the job is complete. \n",
    "After you have started the job, you can track its progress below."
   ]
  },
  {
   "cell_type": "code",
   "execution_count": null,
   "metadata": {},
   "outputs": [],
   "source": [
    "# Extract experiment catalog info\n",
    "cat = af.get_cat_info(path['cat'])\n",
    "\n",
    "# Make the masked videos (stored in 'tmp' directory)\n",
    "cmds = af.convert_masked_videos(cat, in_path=path['vidin'], out_path=path['tmp'], \n",
    "            maskpath=path['mask'], vmode=False, imquality=1, para_mode=True, echo=False)\n",
    "\n",
    "# Run FFMPEG commands in parallel\n",
    "results = batch_command(cmds)\n"
   ]
  },
  {
   "cell_type": "markdown",
   "metadata": {},
   "source": [
    "You can check on the status of this job with the print command in the cell below.\n",
    "For each video that is being worked on, you should see this result:\n",
    "\n",
    "> <AsyncResult(run_command): pending>\n",
    "\n",
    "However, if there is a problem, then you will see something like this:\n",
    "\n",
    "> <AsyncResult(run_command): failed>\n",
    "\n",
    "When the job finishes correctly, then it will look like this:\n",
    "\n",
    "> <AsyncResult(run_command): finished>\n",
    "\n",
    "You can keep re-running this cell each time you want to check on its status. If you have a lot of movies, then this can take a long time. \n",
    "Do not move to the next step until all videos are finished."
   ]
  },
  {
   "cell_type": "code",
   "execution_count": null,
   "metadata": {},
   "outputs": [],
   "source": [
    "print(results)"
   ]
  },
  {
   "cell_type": "markdown",
   "metadata": {},
   "source": [
    "In the second step, the masked videos are compressed and cropped with parallel processing.\n",
    "This is achieved in a similar way, with the following cell."
   ]
  },
  {
   "cell_type": "code",
   "execution_count": null,
   "metadata": {},
   "outputs": [],
   "source": [
    "cmds = af.convert_videos(cat, in_path=path['tmp'], out_path=path['vidout'], \n",
    "            vmode=False, imquality=vid_quality, suffix_in='mp4', para_mode=True, echo=False)\n",
    "\n",
    "# Run FFMPEG commands in parallel\n",
    "results = batch_command(cmds)"
   ]
  },
  {
   "cell_type": "markdown",
   "metadata": {},
   "source": [
    "Again, you can check on the job status:"
   ]
  },
  {
   "cell_type": "code",
   "execution_count": null,
   "metadata": {},
   "outputs": [],
   "source": [
    "print(results)"
   ]
  },
  {
   "cell_type": "markdown",
   "metadata": {},
   "source": [
    "Once the job is finished, then you can survey the directories to make sure that all the videos have been compressed and the tmp files will be deleted:"
   ]
  },
  {
   "cell_type": "code",
   "execution_count": null,
   "metadata": {},
   "outputs": [],
   "source": [
    "# Re-extract experiment catalog info\n",
    "cat = af.get_cat_info(path['cat'])\n",
    "\n",
    "# Step through each experiment\n",
    "for c_row in cat.index:\n",
    "\n",
    "    # Input video path\n",
    "    vid_in_path = path['vidin'] + os.sep + cat.video_filename[c_row] + '.' + os.sep + vid_ext_raw\n",
    "\n",
    "    # Temp video path\n",
    "    vid_tmp_path = path['tmp'] + os.sep + cat.video_filename[c_row] + '.mp4'\n",
    "\n",
    "    # Output video path\n",
    "    vid_out_path = path['vidout'] + os.sep + cat.video_filename[c_row] + '.mp4'\n",
    "\n",
    "    # Check whether output file was not made\n",
    "    if not os.path.isfile(vid_out_path):\n",
    "\n",
    "        print('   Output movie NOT created successfully: ' + vid_out_path)\n",
    "\n",
    "        if os.path.isfile(vid_tmp_path):\n",
    "            print('   Also, temp. movie NOT created successfully: ' + vid_tmp_path)\n",
    "        else:\n",
    "            print('   But, temp. movie created successfully: ' + vid_tmp_path)\n",
    "\n",
    "    # If it was . . .\n",
    "    else:\n",
    "        print('   Output movie created successfully: ' + vid_out_path)\n",
    "\n",
    "        # Delete temp file\n",
    "        if os.path.isfile(vid_tmp_path):\n",
    "            os.remove(vid_tmp_path)"
   ]
  },
  {
   "cell_type": "markdown",
   "metadata": {},
   "source": [
    "# TRex tracking"
   ]
  },
  {
   "cell_type": "markdown",
   "metadata": {},
   "source": []
  }
 ],
 "metadata": {
  "kernelspec": {
   "display_name": "Python 3.10.4 ('wake')",
   "language": "python",
   "name": "python3"
  },
  "language_info": {
   "codemirror_mode": {
    "name": "ipython",
    "version": 3
   },
   "file_extension": ".py",
   "mimetype": "text/x-python",
   "name": "python",
   "nbconvert_exporter": "python",
   "pygments_lexer": "ipython3",
   "version": "3.10.4"
  },
  "orig_nbformat": 4,
  "vscode": {
   "interpreter": {
    "hash": "b5bef4c178dcc9b6fc2de9db8fea5a935f0a2257ca29d45eaa89423719174cb8"
   }
  }
 },
 "nbformat": 4,
 "nbformat_minor": 2
}
