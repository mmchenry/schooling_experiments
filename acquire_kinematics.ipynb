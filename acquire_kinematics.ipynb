{
 "cells": [
  {
   "attachments": {},
   "cell_type": "markdown",
   "metadata": {},
   "source": [
    "# Overview\n",
    "\n",
    "This notebook outlines a workflow and executes key code for batch processing of autotracking.\n",
    "\n"
   ]
  },
  {
   "attachments": {},
   "cell_type": "markdown",
   "metadata": {},
   "source": [
    "# Paths, packages, and parameters\n",
    "You'll need to execute the next cell for all of the code that follows. \n",
    "\n",
    "Make sure that the root_path and local_path are correct for your system.\n",
    "\n",
    "The root_path is the path to the folder containing the data, and video folders.\n",
    "\n",
    "local_path needs to be a directory on a local drive for writing binary video files for TGrabs/TRex."
   ]
  },
  {
   "cell_type": "code",
   "execution_count": null,
   "metadata": {
    "ExecuteTime": {
     "end_time": "2023-07-13T23:17:03.300451379Z",
     "start_time": "2023-07-13T23:17:03.166594602Z"
    }
   },
   "outputs": [],
   "source": [
    "# The project name need to match a directory name within the root path\n",
    "#proj_name = 'RN_Ramp_Debug'\n",
    "proj_name = 'RN_Prop'\n",
    "\n",
    "# Other details about the project\n",
    "species    = 'rummy_nose'\n",
    "exp_type   = 'prop_neo'\n",
    "\n",
    "# font size for GUIs\n",
    "font_size = 30\n",
    "\n",
    "# Repeated measures for each calibration video\n",
    "num_reps = 3\n",
    "\n",
    "# Max number of frames for the mean image\n",
    "max_num_frame_meanimage = 200\n",
    "\n",
    "# Raw and processed video extensions\n",
    "vid_ext_raw = 'MOV'\n",
    "vid_ext_proc = 'mp4'\n",
    "\n",
    "# Installed packages\n",
    "import os\n",
    "import platform\n",
    "\n",
    "# Our own modules\n",
    "import def_acquisition as da\n",
    "import def_paths as dp\n",
    "import video_preprocess as vp\n",
    "import acqfunctions as af\n",
    "import gui_functions as gf\n",
    "\n",
    "# DEFINE ROOT PATH ============================================================\n",
    "\n",
    "# Matt's laptop\n",
    "if (platform.system() == 'Darwin') and (os.path.expanduser('~')=='/Users/mmchenry'):\n",
    "    \n",
    "    root_path = '/Users/mmchenry/Documents/Projects/waketracking'\n",
    "\n",
    "# Matt on PopOS! machine\n",
    "elif (platform.system() == 'Linux') and (os.path.expanduser('~')=='/home/mmchenry'):\n",
    "\n",
    "    # root_path = '/home/mmchenry/Documents/wake_tracking'\n",
    "    root_path = '/mnt/schooling/TRex'\n",
    "    local_path = '/home/mmchenry/Documents/wake_tracking/video/binary'\n",
    "\n",
    "# Ashley on Linux\n",
    "elif (platform.system() == 'Linux') and (os.path.expanduser('~')=='/home/anpetey'):\n",
    "\n",
    "    root_path = '/vortex/schooling/TRex'\n",
    "    local_path = '/home/anpetey/Documents/wake_tracking/video/binary'\n",
    "\n",
    "# Catch alternatives\n",
    "else:\n",
    "    raise ValueError('Do not recognize this account -- add lines of code to define paths here')\n",
    "\n",
    "# =============================================================================\n",
    "\n",
    "# Check for local path definition\n",
    "if not 'local_path' in locals():\n",
    "    raise ValueError('Local path not defined')\n",
    "\n",
    "# Check paths\n",
    "if not os.path.exists(root_path):\n",
    "    raise ValueError('Root path does not exist: ' + root_path)\n",
    "elif not os.path.exists(local_path):\n",
    "    raise ValueError('Local path does not exist: ' + local_path)\n",
    "\n",
    "# Get paths \n",
    "path = dp.give_paths(root_path, proj_name)"
   ]
  },
  {
   "attachments": {},
   "cell_type": "markdown",
   "metadata": {},
   "source": [
    "# Interactive video measurements\n",
    "This section interactively prompts a user for what's needed to preprocess videos from a particular schedule. It prompts the user for information that it needs to create a mask, perform a spatial calibration, and select threshold and blob area values for the image processing by TGrabs and TRex."
   ]
  },
  {
   "attachments": {},
   "cell_type": "markdown",
   "metadata": {},
   "source": [
    "## Select schedule, check for problems in recordings\n",
    "Note: need to run this for cells below.\n",
    "\n",
    "Here we prompt the user to select which schedule to choose for preprocessing. Along the way, it checks for the following:\n",
    "- That the experiment_log.csv and recording_log.csv lists include all trials in the schedule.\n",
    "- Compares the schedules in the project against video recordings \n",
    "- It compares the duration of recorded videos to what was expected in the schedule and alerts user of large differences."
   ]
  },
  {
   "cell_type": "code",
   "execution_count": null,
   "metadata": {
    "ExecuteTime": {
     "end_time": "2023-07-11T21:41:23.796130572Z",
     "start_time": "2023-07-11T21:41:20.109209678Z"
    }
   },
   "outputs": [],
   "source": [
    "# Find matching experiments between the schedule and video directories\n",
    "sch_num, sch_date, analysis_schedule = vp.find_schedule_matches(path['sch'], path['vidin'], font_size=30)\n",
    "\n",
    "# Check that the schedule matches the catalog and the catalog matches the experiment log. Also check that the video files exist. Add timecode data.\n",
    "vp.check_logs(path, analysis_schedule, sch_num, sch_date, vid_ext_raw)"
   ]
  },
  {
   "attachments": {},
   "cell_type": "markdown",
   "metadata": {},
   "source": [
    "## Create a mask image\n",
    "You will want to choose a region of interest that is just outside of the water line within the arena."
   ]
  },
  {
   "cell_type": "code",
   "execution_count": null,
   "metadata": {},
   "outputs": [],
   "source": [
    "gf.run_mask_acq(path, sch_date, sch_num, vid_ext_raw, analysis_schedule, overwrite_existing=False)"
   ]
  },
  {
   "attachments": {},
   "cell_type": "markdown",
   "metadata": {},
   "source": [
    "## Run spatial calibration\n",
    "Prompts user to conduct repeated measures for the calibration. Note that you need to know the actual length in centimeters."
   ]
  },
  {
   "cell_type": "code",
   "execution_count": null,
   "metadata": {},
   "outputs": [],
   "source": [
    "gf.run_spatial_calibration(path, sch_date, sch_num, vid_ext_raw, analysis_schedule, num_reps, font_size=40, overwrite_existing=True)"
   ]
  },
  {
   "attachments": {},
   "cell_type": "markdown",
   "metadata": {},
   "source": [
    "## Create mean image\n",
    "A mean image is created from multiple videos in the batch."
   ]
  },
  {
   "cell_type": "code",
   "execution_count": null,
   "metadata": {},
   "outputs": [],
   "source": [
    "vp.run_mean_image(path, sch_num, sch_date, analysis_schedule, max_num_frame_meanimage, overwrite_existing=True)"
   ]
  },
  {
   "attachments": {},
   "cell_type": "markdown",
   "metadata": {},
   "source": [
    "## Select threshold and blob area\n",
    "\n",
    "- Select the lowest threshold possible, without the margins of each fish looking fuzzy\n",
    "\n",
    "- Select the range of areas that just barely include individual fish. Exclude fish that are touching area other."
   ]
  },
  {
   "cell_type": "code",
   "execution_count": null,
   "metadata": {
    "ExecuteTime": {
     "end_time": "2023-07-11T21:40:56.447770862Z",
     "start_time": "2023-07-11T21:40:56.396828949Z"
    }
   },
   "outputs": [],
   "source": [
    "gf.run_threshold_choice(path, sch_date, sch_num, analysis_schedule, vid_ext_raw,  overwrite_existing=True)"
   ]
  },
  {
   "attachments": {},
   "cell_type": "markdown",
   "metadata": {},
   "source": [
    "## Generate binary videos\n",
    "\n",
    "Here we use the threshold and area values to generate black-and-white images of the school.\n",
    "\n",
    "This can be performed on a single video, all videos in a schedule in succession, or using parallel processing (the fastest option)."
   ]
  },
  {
   "cell_type": "code",
   "execution_count": null,
   "metadata": {},
   "outputs": [],
   "source": [
    "run_mode = 'single' # May be single, sequential, or parallel\n",
    "\n",
    "vp.run_make_binary_videos(run_mode, path, local_path, sch_date, sch_num, vid_ext_raw, vid_ext_proc, mov_idx=0)"
   ]
  },
  {
   "attachments": {},
   "cell_type": "markdown",
   "metadata": {
    "collapsed": false
   },
   "source": [
    "# tRex and tGrabs\n"
   ]
  },
  {
   "attachments": {},
   "cell_type": "markdown",
   "metadata": {
    "collapsed": false
   },
   "source": [
    "## Parameters\n",
    "\n",
    "Parameters are described in the documentation for [TGrabs](https://trex.run/docs/parameters_tgrabs.html) and [TRex](https://trex.run/docs/parameters_trex.html).\n",
    "\n",
    "These lists of parameters will be passed to TGrabs and TRex. If there is not already a column for that parameter, then it will be added to cat (i.e. experiment_log.csv) with the default values specified below. Those defaults may be overridden by keying values into experiment_log.csv."
   ]
  },
  {
   "cell_type": "code",
   "execution_count": null,
   "metadata": {},
   "outputs": [],
   "source": [
    "# Parameter list to use by TGrabs, along with default\n",
    "param_list_tgrabs = [\n",
    "    #['threshold','20'],\n",
    "    ['averaging_method','mode'],\n",
    "    ['average_samples','150'],\n",
    "    ['blob_size_range','[0.01,5]'],\n",
    "    ['meta_conditions',exp_type],\n",
    "    ['meta_species',species]\n",
    "   # ['meta_misc','school_ABC']\n",
    "    ]\n",
    "\n",
    "# Specify list of parameter values for TRex, all listed as strings\n",
    "param_list_trex = [\n",
    "    ['track_threshold','20'],\n",
    "    ['blob_size_ranges','[0.01,3]'],\n",
    "    ['track_max_speed','70'],\n",
    "    ['track_max_reassign_time','0.1'],\n",
    "    ['output_format','npz'],\n",
    "    ['gui_show_posture','false'],\n",
    "    ['gui_show_paths','false'],\n",
    "    ['gui_show_outline', 'true'], \n",
    "    ['gui_show_midline', 'false'], \n",
    "    ['gui_show_blobs', 'true'],\n",
    "    ['calculate_posture','true'],\n",
    "    ['gui_show_number_individuals', 'true']\n",
    "    ]\n",
    "\n",
    "# Map 'cat' column names to TRex parameter names (no default values)\n",
    "cat_to_trex = [\n",
    "    ['fish_num','track_max_individuals'],\n",
    "    ['cm_per_pix','cm_per_pixel'],\n",
    "    ['frame_rate','frame_rate']\n",
    "    ]\n",
    "\n",
    "# Add default parameter values to all rows\n",
    "af.add_param_vals(path['cat'], param_list_tgrabs, param_list_trex)"
   ]
  },
  {
   "attachments": {},
   "cell_type": "markdown",
   "metadata": {},
   "source": [
    "## Run TGrabs\n",
    "\n",
    "TGrabs generates pv video files from raw videos for TRex tracking.\n",
    "\n",
    "Cell below generates dv videos, which will be used by TRex, from compressed videos.\n",
    "This will be completed for each row of cat."
   ]
  },
  {
   "cell_type": "code",
   "execution_count": null,
   "metadata": {},
   "outputs": [],
   "source": [
    "# Run TGrabs, or formulate the command-line terminal commands\n",
    "commands = af.run_tgrabs(path['cat'], path['data_raw'], local_path, path['vidpv'], param_list_tgrabs, vid_ext_proc=vid_ext_proc, use_settings_file=False, run_gui=True, echo=True, run_command=True)\n"
   ]
  },
  {
   "attachments": {},
   "cell_type": "markdown",
   "metadata": {},
   "source": [
    "## Run TRex\n",
    "Uses the parameter names given in param_list_trex and cat_to_trex to generate the command-line terminal commands to run TRex.\n"
   ]
  },
  {
   "cell_type": "code",
   "execution_count": null,
   "metadata": {
    "collapsed": false
   },
   "outputs": [],
   "source": [
    "    # Run TRex, or formulate the command-line terminal commands\n",
    "commands = af.run_trex(path['cat'], path['vidpv'], path['data_raw'], param_list_trex, cat_to_trex, run_gui=False, output_posture=True, echo=True, run_command=True)"
   ]
  },
  {
   "attachments": {},
   "cell_type": "markdown",
   "metadata": {},
   "source": [
    "## Export TRex data in mat format"
   ]
  },
  {
   "cell_type": "code",
   "execution_count": null,
   "metadata": {},
   "outputs": [],
   "source": [
    "# Extract experiment catalog info\n",
    "cat = af.get_cat_info(path['cat'], include_mode='matlab', exclude_mode='calibration')\n",
    "\n",
    "# Convert all npz files for an experiment to mat files.\n",
    "da.raw_to_mat(cat, path)"
   ]
  },
  {
   "attachments": {},
   "cell_type": "markdown",
   "metadata": {
    "collapsed": false
   },
   "source": [
    "# Housecleaning"
   ]
  },
  {
   "cell_type": "code",
   "execution_count": null,
   "metadata": {
    "collapsed": false
   },
   "outputs": [],
   "source": [
    "# Delete the local binary videos that match the pv videos\n",
    "af.delete_matching_files(local_path, path['vidpv'])"
   ]
  }
 ],
 "metadata": {
  "kernelspec": {
   "display_name": "Python 3 (ipykernel)",
   "language": "python",
   "name": "python3"
  },
  "language_info": {
   "codemirror_mode": {
    "name": "ipython",
    "version": 3
   },
   "file_extension": ".py",
   "mimetype": "text/x-python",
   "name": "python",
   "nbconvert_exporter": "python",
   "pygments_lexer": "ipython3",
   "version": "3.7.13"
  },
  "vscode": {
   "interpreter": {
    "hash": "71dac57fef06cf0555e23a411fcaf11d6b3df35474a6cffaa58a5c856d74addb"
   }
  }
 },
 "nbformat": 4,
 "nbformat_minor": 2
}
