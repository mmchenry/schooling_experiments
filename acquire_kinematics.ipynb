{
 "cells": [
  {
   "cell_type": "markdown",
   "metadata": {},
   "source": [
    "# Overview\n",
    "\n",
    "This notebook outlines a workflow and executes key code for batch processing of autotracking.\n",
    "\n"
   ]
  },
  {
   "cell_type": "markdown",
   "metadata": {},
   "source": [
    "# Packages, paths, and parameters\n",
    "You'll need to execute the next cell for all of the code that follows. Make sure that the root_code and root_proj paths are correct for your system."
   ]
  },
  {
   "cell_type": "code",
   "execution_count": 1,
   "metadata": {},
   "outputs": [],
   "source": [
    "import sys\n",
    "import os\n",
    "import def_definepaths as dd\n",
    "import def_acquisition as da\n",
    "import numpy as np\n",
    "import pandas as pd\n",
    "import cv2 as cv\n",
    "\n",
    "# Root path for code on your system (can be set to None if you want to use give_paths to define them)\n",
    "root_code = None\n",
    "\n",
    "# Root path for the data and videos for the project\n",
    "root_proj = None\n",
    "\n",
    "# Get paths (specific to system running code)\n",
    "path = dd.give_paths(root_code=root_code, root_proj=root_proj)\n",
    "\n",
    "# Add path to kineKit 'sources' directory\n",
    "sys.path.insert(0, path['kinekit'] + os.sep + 'sources')\n",
    "\n",
    "# Import from kineKit\n",
    "import acqfunctions as af\n",
    "import videotools as vt\n",
    "\n",
    "# Raw video extension\n",
    "vid_ext_raw = 'MOV'\n",
    "\n",
    "# Compressed video quality level (0 to 1, where 1 is no compression)\n",
    "vid_quality = 0.75"
   ]
  },
  {
   "cell_type": "markdown",
   "metadata": {},
   "source": [
    "# Create mask\n",
    "\n",
    "You'll need to create a new mask whenever the position of the tank changes in the video frame. Follow the following steps to create a new mask."
   ]
  },
  {
   "cell_type": "markdown",
   "metadata": {},
   "source": [
    "## Measure the region-of-interest (ROI)\n",
    "\n",
    "Here the aim is to define an ellipical region-of-interest where the tank resides within the video frames.\n",
    "\n",
    "1. Set the 'make_video' column in the 'experiment_log.csv' file to a value of 1 for the video for which you want to create a mask.\n",
    "\n",
    "1. Set all other 'make_video' rows to 0. If there is more than one row set to 1 then the code will use the first in the list.\n",
    "\n",
    "1. Run the cell below to save a single frame from the video, which is saved to the 'masks' directory.\n",
    "\n",
    "1. After the frame is generated, open it up in [Fiji](https://imagej.net/software/fiji/downloads) (or ImageJ), use the ellipse tool to draw around the tank margin. Be sure not to cut off any portion of the tank where a fish might end up. All areas outside of the ROI will be ignored.\n",
    "\n",
    "1. Once the ellipse has been drawn, select Analyze:Measure in the pull-down menus to find the region-of-interest coordinates.\n",
    "\n",
    "1. Enter the value for 'BX' as 'roi_x' in the experiment_log (enter values online in Google Sheets). Do the same for BY->roi_y, Width->roi_w, Height->roi_h. Copy and paste the values to all rows corresponding to videos that use that same ROI.\n",
    "\n",
    "1. Make sure that the local version of experiment_log matches the values as the Google Sheet. This can be done by redownloading the CSV file, or copy and pasting values to the local copy. \n",
    "\n"
   ]
  },
  {
   "cell_type": "code",
   "execution_count": null,
   "metadata": {},
   "outputs": [],
   "source": [
    "# Index of video in cat list to extract video\n",
    "vid_index = 0\n",
    "\n",
    "# Extract experiment catalog info\n",
    "cat = af.get_cat_info(path['cat'])\n",
    "\n",
    "# Filename for frame of current sequence\n",
    "filename = cat.date[vid_index] + '_' + format(cat.trial_num[vid_index],'03') + '_frame1'\n",
    "\n",
    "# Define path for video\n",
    "full_path = path['vidin'] + os.sep + cat.video_filename[vid_index] + '.' + vid_ext_raw\n",
    "\n",
    "# Path for video frame\n",
    "frame_path = path['mask'] + os.sep + filename + '.jpg'\n",
    "\n",
    "# Extract frame and save to 'mask' directory\n",
    "im = vt.get_frame(full_path)\n",
    "result = cv.imwrite(frame_path, im)\n",
    "\n",
    "if result is False:\n",
    "    print('Save to the following path failed: ' + frame_path)\n",
    "else:\n",
    "    print('Video frame saved to: ' + frame_path)"
   ]
  },
  {
   "cell_type": "markdown",
   "metadata": {},
   "source": [
    "## Create the mask image\n",
    "\n",
    "1. As in step above, the cell below will use the first row for which make_video=1 in the 'experiment_log.csv' file to define the ROI for the mask, so adjust the spreadsheet accordingly.\n",
    "\n",
    "1. The code will prompt you to choose a filename for the mask image and will save that file to the 'masks' directory.\n",
    "\n",
    "1. Once completed, enter the mask filename (without the 'png' extension) into the mask_filename column of experiment_log for all experiments that should use that mask."
   ]
  },
  {
   "cell_type": "code",
   "execution_count": null,
   "metadata": {},
   "outputs": [],
   "source": [
    "# Index of video in cat list to extract video\n",
    "vid_index = 0\n",
    "\n",
    "# Extract experiment catalog info\n",
    "cat = af.get_cat_info(path['cat'])\n",
    "\n",
    "# Define path to raw video\n",
    "full_path = path['vidin'] + os.sep + cat.video_filename[vid_index] + '.' + vid_ext_raw\n",
    "\n",
    "# Extract video frame \n",
    "im = vt.get_frame(full_path)\n",
    "\n",
    "# Make frame a gray field\n",
    "im = int(256/2) + 0*im\n",
    "\n",
    "# Extract roi coordinates\n",
    "x_roi = float(cat.roi_x[vid_index])\n",
    "y_roi = float(cat.roi_y[vid_index])\n",
    "w_roi = float(cat.roi_w[vid_index])\n",
    "h_roi = float(cat.roi_h[vid_index])\n",
    "xC = x_roi + w_roi/2\n",
    "yC = y_roi + h_roi/2\n",
    "dims = (int(np.ceil(w_roi/2)), int(np.ceil(h_roi/2)))\n",
    "cntr = (int(x_roi + w_roi/2), int(y_roi + h_roi/2))\n",
    "\n",
    "# Define circular image for mask\n",
    "im = cv.ellipse(im, cntr, dims, angle=0, startAngle=0, endAngle=360, color=(255,255,255),thickness=-1)\n",
    "\n",
    "# Start transparent image as a bunch of opaque white pixels\n",
    "trans_img = int(255)*np.ones((im.shape[0], im.shape[1], 4), dtype=np.uint8)\n",
    "\n",
    "# Make pixels around circle opaque gray\n",
    "trans_img[:,:,0] = int(256/2)\n",
    "trans_img[:,:,1] = int(256/2)\n",
    "trans_img[:,:,2] = int(256/2)\n",
    "\n",
    "# Set opacity (4th channel in image) to zero at white circle pixels in im\n",
    "trans_img[np.where(np.all(im[..., :3] == 255, -1))] = 0\n",
    "\n",
    "# Filename for frame of current sequence\n",
    "filename = cat.date[vid_index] + '_' + format(cat.trial_num[vid_index],'03') + '_mask'\n",
    "\n",
    "# Output mask file\n",
    "mask_path = path['mask'] + os.sep + filename + '.png'\n",
    "\n",
    "# Write mask image to disk\n",
    "result = cv.imwrite(mask_path, trans_img)\n",
    "# result = cv.imwrite(mask_path, im)\n",
    "\n",
    "if result is False:\n",
    "    print('Saving mask image the following path failed: ' + mask_path)\n",
    "else:\n",
    "    print('Mask image saved to: ' + mask_path)\n"
   ]
  },
  {
   "attachments": {},
   "cell_type": "markdown",
   "metadata": {},
   "source": [
    "# Create compressed movies\n",
    "\n",
    "The code below will generate compressed videos for all experiments in experiment_log where analyze=1 and make_video=1. \n",
    "This is done in three steps.\n",
    "First, uncompressed masked movies are created and stored in the 'tmp' directory, then compressed and cropped movies are saved in 'pilot_compressed' (the tmp movies are then deleted), and finally there is cleanup step, where the final videos are verified and tmp videos are deleted."
   ]
  },
  {
   "cell_type": "code",
   "execution_count": null,
   "metadata": {},
   "outputs": [],
   "source": [
    "# The default is to not parallelize the code\n",
    "para_mode = False"
   ]
  },
  {
   "attachments": {},
   "cell_type": "markdown",
   "metadata": {},
   "source": [
    "## Converting in batches\n",
    "\n",
    "To speed up the conversion for batches of videos, we've parallelized the code (though you can skip this complexity by setting para_mode=False).\n",
    "So, you will want to adjust the num_cores parameter below to the number of cores in your machine.\n",
    "However, the code cannot handle a situations where you are converting more movies than there are cores.\n",
    "So, if you are converting fewer movies than you have cores, then allocate the number of cores to the total number of movies.\n",
    "\n",
    "In order for the parallel processing to work, open a terminal and activate the environment for this project (e.g., 'conda active wake' for the 'wake' environment), and run the following code, where the final number is the number of cores to be run:\n",
    "\n",
    "> ipcluster start -n 8\n",
    "\n",
    "You should get a message that \"Engines appear to have started successfully\", if things are working.\n",
    "\n",
    "Next, execute the batch_command function below."
   ]
  },
  {
   "cell_type": "code",
   "execution_count": null,
   "metadata": {},
   "outputs": [],
   "source": [
    "# Whether to use parallel processing \n",
    "# (set to False when running this on a small number of movies)\n",
    "para_mode = True\n",
    "\n",
    "def batch_command(cmds):\n",
    "    \"\"\" Runs a series of command-line instructions (in cmds dataframe) in parallel \"\"\"\n",
    "\n",
    "    import ipyparallel as ipp\n",
    "    import subprocess\n",
    "\n",
    "    # Set up clients \n",
    "    client = ipp.Client()\n",
    "    type(client), client.ids\n",
    "\n",
    "    # Direct view allows shared data (balanced_view is the alternative)\n",
    "    direct_view = client[:]\n",
    "\n",
    "    # Function to execute the code\n",
    "    def run_command(idx):\n",
    "        import os\n",
    "        output = os.system(cmds_run.command[idx])\n",
    "        # output = subprocess.run(cmds_run.command[idx], capture_output=True)\n",
    "        # result = output.stdout.decode(\"utf-8\")\n",
    "        return output\n",
    "        # return idx\n",
    "\n",
    "    direct_view[\"cmds_run\"] = cmds\n",
    "\n",
    "    res = []\n",
    "    for n in range(len(direct_view)):\n",
    "        res.append(client[n].apply(run_command, n))\n",
    "    \n",
    "    return res"
   ]
  },
  {
   "attachments": {},
   "cell_type": "markdown",
   "metadata": {},
   "source": [
    "## Step 1 of 3\n",
    "The compressed videos are created in three steps. \n",
    "First, uncompressed videos are generated with a mask and saved in the 'tmp' folder (within the video directory). \n",
    "The cell below accomplishes this step, but note that the work is accomplished by sending the job to the terminal, which makes it look like here like the job is complete. \n",
    "After you have started the job, you can track its progress below."
   ]
  },
  {
   "cell_type": "code",
   "execution_count": null,
   "metadata": {},
   "outputs": [],
   "source": [
    "# Extract experiment catalog info\n",
    "cat = af.get_cat_info(path['cat'], include_mode='make_video')\n",
    "\n",
    "# Make the masked videos (stored in 'tmp' directory)\n",
    "cmds = af.convert_masked_videos(cat, in_path=path['vidin'], out_path=path['tmp'], \n",
    "            maskpath=path['mask'], vmode=False, imquality=1, para_mode=para_mode, \n",
    "            echo=False, out_name='date_trial')\n",
    "\n",
    "if para_mode:\n",
    "    # Run FFMPEG commands in parallel\n",
    "    results = batch_command(cmds)"
   ]
  },
  {
   "attachments": {},
   "cell_type": "markdown",
   "metadata": {},
   "source": [
    "### For batches\n",
    "For parallel mode, you can check on the status of this job with the print command in the cell below."
   ]
  },
  {
   "cell_type": "code",
   "execution_count": null,
   "metadata": {},
   "outputs": [],
   "source": [
    "if para_mode:\n",
    "    print(results)"
   ]
  },
  {
   "attachments": {},
   "cell_type": "markdown",
   "metadata": {},
   "source": [
    "In response to executing the above cell, you will see the following result for each video that is being worked on:\n",
    "\n",
    "> <AsyncResult(run_command): pending>\n",
    "\n",
    "However, if there is a problem, then you will see something like this:\n",
    "\n",
    "> <AsyncResult(run_command): failed>\n",
    "\n",
    "When the job finishes correctly, then it will look like this:\n",
    "\n",
    "> <AsyncResult(run_command): finished>\n",
    "\n",
    "You can keep re-running the cell below each time you want to check on its status. If you have a lot of movies, then this can take a long time. \n",
    "Do not move to the next step until all videos are finished."
   ]
  },
  {
   "attachments": {},
   "cell_type": "markdown",
   "metadata": {},
   "source": [
    "## Step 2 of 3\n",
    "In the second step, the masked videos are compressed and cropped with parallel processing.\n",
    "This is achieved in a similar way, with the following cell."
   ]
  },
  {
   "cell_type": "code",
   "execution_count": null,
   "metadata": {},
   "outputs": [],
   "source": [
    "# Thickness (in pixels) of border around ROI\n",
    "border_pix = 10\n",
    "\n",
    "# Formulate command(s) for conversion\n",
    "cmds = af.convert_videos(cat, in_path=path['tmp'], out_path=path['vidout'], \n",
    "            in_name='date_trial', out_name='date_trial', vmode=False, imquality=vid_quality, \n",
    "            suffix_in='mp4', para_mode=para_mode, echo=False, border_pix=border_pix)\n",
    "\n",
    "if para_mode:\n",
    "    # Run FFMPEG commands in parallel\n",
    "    results = batch_command(cmds)"
   ]
  },
  {
   "attachments": {},
   "cell_type": "markdown",
   "metadata": {},
   "source": [
    "### For batches\n",
    "Again, you can check on the job status (parallel mode only):"
   ]
  },
  {
   "cell_type": "code",
   "execution_count": null,
   "metadata": {},
   "outputs": [],
   "source": [
    "if para_mode:\n",
    "    print(results)"
   ]
  },
  {
   "attachments": {},
   "cell_type": "markdown",
   "metadata": {},
   "source": [
    "## Step 3 of 3 \n",
    "Once the job is finished, then you can survey the directories to make sure that all the videos have been compressed and the tmp files will be deleted:"
   ]
  },
  {
   "cell_type": "code",
   "execution_count": null,
   "metadata": {},
   "outputs": [],
   "source": [
    "# Step through each experiment\n",
    "for c_row in cat.index:\n",
    "\n",
    "    # Define trial filename\n",
    "    trialnum = str(int(cat.trial_num[c_row]))\n",
    "    trialnum = '00' + trialnum[-3:]\n",
    "    datetrial_name = cat.date[c_row] + '_' + trialnum\n",
    "\n",
    "    # Temp video path\n",
    "    vid_tmp_path = path['tmp'] + os.sep + datetrial_name + '.mp4'\n",
    "\n",
    "    # Output video path\n",
    "    vid_out_path = path['vidout'] + os.sep + datetrial_name + '.mp4'\n",
    "\n",
    "    # Check whether output file was not made\n",
    "    if not os.path.isfile(vid_out_path):\n",
    "\n",
    "        print('   Output movie NOT created successfully: ' + vid_out_path)\n",
    "\n",
    "        if os.path.isfile(vid_tmp_path):\n",
    "            print('   Also, temp. movie NOT created successfully: ' + vid_tmp_path)\n",
    "        else:\n",
    "            print('   But, temp. movie created successfully: ' + vid_tmp_path)\n",
    "\n",
    "    # If it was . . .\n",
    "    else:\n",
    "        print('   Output movie created successfully: ' + vid_out_path)\n",
    "\n",
    "        # Delete temp file\n",
    "        if os.path.isfile(vid_tmp_path):\n",
    "            os.remove(vid_tmp_path)"
   ]
  },
  {
   "attachments": {},
   "cell_type": "markdown",
   "metadata": {},
   "source": [
    "# TGrabs and TRex\n",
    "\n",
    "## Parameters\n",
    "\n",
    "TGrabs parameters are described in the [TRex documentation](https://trex.run/docs/parameters_tgrabs.html)"
   ]
  },
  {
   "cell_type": "code",
   "execution_count": 2,
   "metadata": {},
   "outputs": [],
   "source": [
    "# Parameter list for TGrabs \n",
    "# (These were listed in the spreadsheet)\n",
    "param_list_tgrabs = [\n",
    "    ['threshold', '9'], \n",
    "    ['use_adaptive_threshold', 'true'], \n",
    "    ['meta_real_width', '120'],\n",
    "    ['dilation_size','2.5'],\n",
    "    ['adaptive_threshold_scale','20'],\n",
    "    ['blob_size_range','[0.01,0.4]']\n",
    "    ]\n",
    "\n",
    "# Specify list of parameter values for TRex, all listed as strings\n",
    "param_list_trex = [\n",
    "    ['gui_show_recognition_bounds','false'],\n",
    "    ['gui_show_posture','false'],\n",
    "    ['gui_show_paths','false'],\n",
    "    ['gui_show_outline', 'false'], \n",
    "    ['gui_show_midline', 'false'], \n",
    "    ['gui_show_blobs', 'false'],\n",
    "    ['gui_show_number_individuals', 'true'],\n",
    "    ['gui_foi_name','manual match'],\n",
    "    # ['heatmap_ids','[4]'],\n",
    "    ['output_format','csv'],\n",
    "    ['output_invalid_value','nan'],\n",
    "    # ['gui_zoom_limit','[100,100]'],\n",
    "    ['frame_rate','59']\n",
    "    # ['blob_size_ranges','[0.01,0.4]']\n",
    "    ]\n",
    "\n",
    "# param_list_trex = [\n",
    "#     ['track_threshold','9'],\n",
    "#     ['track_max_speed','60'],\n",
    "#     ['track_max_individuals','0'],\n",
    "#     ['gui_show_recognition_bounds','False'],\n",
    "#     ['gui_show_posture','false'],\n",
    "#     ['gui_show_paths','false'],\n",
    "#     ['gui_show_outline', 'false'], \n",
    "#     ['gui_show_midline', 'false'], \n",
    "#     ['gui_show_blobs', 'false'],\n",
    "#     ['gui_show_number_individuals', 'true'],\n",
    "#     ['gui_foi_name','manual match'],\n",
    "#     ['heatmap_ids','[4]'],\n",
    "#     ['output_invalid_value','nan'],\n",
    "#     ['gui_zoom_limit','[100,100]'],\n",
    "#     ['frame_rate','59'],\n",
    "#     ['blob_size_ranges','[0.01,0.4]']\n",
    "#     ]"
   ]
  },
  {
   "attachments": {},
   "cell_type": "markdown",
   "metadata": {},
   "source": [
    "# TGrabs generation of movies for TRex"
   ]
  },
  {
   "attachments": {},
   "cell_type": "markdown",
   "metadata": {},
   "source": [
    "## Execute TGrabs\n",
    "Cell below generates dv videos, which will be used by TRex, from compressed videos.\n",
    "This will be completed for each row of cat."
   ]
  },
  {
   "cell_type": "code",
   "execution_count": null,
   "metadata": {},
   "outputs": [],
   "source": [
    "# Define input parameter list as dataframe\n",
    "# param_input = pd.DataFrame(param_list_tgrabs, columns=['param_name', 'param_val'])\n",
    "param_input = pd.DataFrame([])\n",
    "\n",
    "# Add the TRex parameter listing to the TGrabs parameters\n",
    "# (might improve the preliminary tracking)\n",
    "# param_input.append(param_list_trex)\n",
    "\n",
    "# Extract experiment catalog info\n",
    "cat = af.get_cat_info(path['cat'], include_mode='analyze')\n",
    "\n",
    "# Loop thru each video listed in cat\n",
    "for c_row in cat.index:\n",
    "\n",
    "    # Define trial filename\n",
    "    trialnum = str(int(cat.trial_num[c_row]))\n",
    "    trialnum = '00' + trialnum[-3:]\n",
    "    datetrial_name = cat.date[c_row] + '_' + trialnum\n",
    "\n",
    "    # Define and check input path\n",
    "    path_in = path['vidout'] + os.sep + datetrial_name + '.mp4'\n",
    "    if not os.path.isfile(path_in):\n",
    "        raise OSError('Video file does not exist: ' + path_in)\n",
    "\n",
    "    # Output path\n",
    "    path_out = path['vidpv'] + os.sep + datetrial_name + '.pv'\n",
    "\n",
    "    # Path to save settings table\n",
    "    path_settings = path['settings'] + os.sep + datetrial_name + '_tgrabs_settings.csv'\n",
    "\n",
    "    # Start formulating the TGrabs command\n",
    "    command = f'tgrabs -i {path_in} -o {path_out} '\n",
    "\n",
    "    # Add additional command\n",
    "    # command += '-averaging_method mode '\n",
    "\n",
    "    # Loop thru each parameter value included in cat\n",
    "    for idx in param_input.index:\n",
    "        command += '-' + str(param_input.param_name[idx]) + ' ' + str(param_input.param_val[idx]) + ' '\n",
    "\n",
    "    # Write settings to csv\n",
    "    param_input.to_csv(path_settings, index=False)\n",
    "    \n",
    "    # Execute at the command line\n",
    "    os.system(command)\n",
    "    # print(command)"
   ]
  },
  {
   "cell_type": "markdown",
   "metadata": {},
   "source": [
    "# Running TRex"
   ]
  },
  {
   "attachments": {},
   "cell_type": "markdown",
   "metadata": {},
   "source": [
    "## Batch execution of experiment videos with TRex\n",
    "\n",
    "Be sure that experiment_log.csv includes the name of the settings file, in the settings directory, that TRex can use to "
   ]
  },
  {
   "cell_type": "code",
   "execution_count": 5,
   "metadata": {},
   "outputs": [
    {
     "name": "stdout",
     "output_type": "stream",
     "text": [
      "trex -i /Users/mmchenry/Documents/Projects/waketracking/video/pv/2022-10-03_001.pv -output_dir /Users/mmchenry/Documents/Projects/waketracking/data/raw -settings_file /Users/mmchenry/Documents/Projects/waketracking/data/settings/2022-10-03_001.settings -track_max_individuals 19 -gui_show_recognition_bounds false -gui_show_posture false -gui_show_paths false -gui_show_outline false -gui_show_midline false -gui_show_blobs false -gui_show_number_individuals true -gui_foi_name manual match -output_format csv -output_invalid_value nan -frame_rate 59 \n"
     ]
    }
   ],
   "source": [
    "# Create the pandas DataFrame that holds the parameter values\n",
    "params_trex = pd.DataFrame(param_list_trex, \n",
    "                    columns=['param_name', 'param_val'])\n",
    "\n",
    "# Extract experiment catalog info\n",
    "cat = af.get_cat_info(path['cat'], include_mode='analyze')\n",
    "\n",
    "# Loop thru each video listed in cat\n",
    "for c_row in cat.index:\n",
    "\n",
    "    # Define trial filename\n",
    "    trialnum = str(int(cat.trial_num[c_row]))\n",
    "    trialnum = '00' + trialnum[-3:]\n",
    "    datetrial_name = cat.date[c_row] + '_' + trialnum\n",
    "\n",
    "    # Define and check input path\n",
    "    path_in = path['vidpv'] + os.sep + datetrial_name + '.pv'\n",
    "\n",
    "    # Check for input file\n",
    "    if not os.path.isfile(path_in):\n",
    "        raise OSError('Video file does not exist: ' + path_in)\n",
    "    \n",
    "    # Where data will be saved\n",
    "    data_path = path['data_raw'] \n",
    "\n",
    "    # Overwrite number of fish\n",
    "    # params_trex.track_max_individuals = str(int(cat.fish_num[c_row]))\n",
    "\n",
    "    # Settings path\n",
    "    # path_settings = path['settings'] + os.sep + datetrial_name + '.settings'\n",
    "    path_settings = datetrial_name + '.settings'\n",
    "\n",
    "    # Start formulating the TGrabs command\n",
    "    command = f'trex -i {path_in} -output_dir {data_path} -settings_file {path_settings} '\n",
    "\n",
    "    # Add path for settings\n",
    "    # command += f'-settings_file {path_settings} '\n",
    "\n",
    "    # Get max number of fish from spreadsheet\n",
    "    command += f'-track_max_individuals {str(int(cat.fish_num[c_row]))} '\n",
    "\n",
    "    # Loop thru each parameter value included in cat\n",
    "    for idx in params_trex.index:\n",
    "        command += '-' + str(params_trex.param_name[idx]) + ' ' + str(params_trex.param_val[idx]) + ' '\n",
    "\n",
    "    # Execute at the command line\n",
    "    # result = os.system(command)\n",
    "    print(command)"
   ]
  },
  {
   "cell_type": "markdown",
   "metadata": {},
   "source": [
    "## Export data in mat format"
   ]
  },
  {
   "cell_type": "code",
   "execution_count": null,
   "metadata": {},
   "outputs": [],
   "source": [
    "from scipy.io import savemat\n",
    "import glob\n",
    "\n",
    "# Extract experiment catalog info \n",
    "cat = af.get_cat_info(path['cat'], include_mode=='analyze')\n",
    "\n",
    "# Convert all npz files for an experiment to mat files.\n",
    "da.raw_to_mat(cat)"
   ]
  }
 ],
 "metadata": {
  "kernelspec": {
   "display_name": "Python 3.9.13 ('track')",
   "language": "python",
   "name": "python3"
  },
  "language_info": {
   "codemirror_mode": {
    "name": "ipython",
    "version": 3
   },
   "file_extension": ".py",
   "mimetype": "text/x-python",
   "name": "python",
   "nbconvert_exporter": "python",
   "pygments_lexer": "ipython3",
   "version": "3.9.13"
  },
  "orig_nbformat": 4,
  "vscode": {
   "interpreter": {
    "hash": "a18ed5b730d03e3339ca69a3de066a30fd4289901f640e2ef06dab74b55af943"
   }
  }
 },
 "nbformat": 4,
 "nbformat_minor": 2
}
